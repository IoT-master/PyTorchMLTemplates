{
  "nbformat": 4,
  "nbformat_minor": 0,
  "metadata": {
    "colab": {
      "name": "UnderstandingConvolutionNeuralNetwork.ipynb",
      "provenance": [],
      "collapsed_sections": []
    },
    "kernelspec": {
      "name": "python3",
      "display_name": "Python 3"
    }
  },
  "cells": [
    {
      "cell_type": "code",
      "metadata": {
        "id": "8RattHwXuAJx",
        "colab_type": "code",
        "colab": {}
      },
      "source": [
        "import numpy as np\n",
        "from PIL import Image\n",
        "import matplotlib.pyplot as plt"
      ],
      "execution_count": 0,
      "outputs": []
    },
    {
      "cell_type": "code",
      "metadata": {
        "id": "ctBf1vrLuOLZ",
        "colab_type": "code",
        "colab": {}
      },
      "source": [
        "img = Image.open('datasets/images/street.jpg').convert('RGB')"
      ],
      "execution_count": 0,
      "outputs": []
    },
    {
      "cell_type": "code",
      "metadata": {
        "id": "w4tRmy3muZQA",
        "colab_type": "code",
        "colab": {}
      },
      "source": [
        "img"
      ],
      "execution_count": 0,
      "outputs": []
    },
    {
      "cell_type": "code",
      "metadata": {
        "id": "FcZhRJPJufZI",
        "colab_type": "code",
        "colab": {}
      },
      "source": [
        "import torch\n",
        "import torch.nn as nn\n",
        "import torch.nn.functional as F\n",
        "from torchvision import transforms as tf"
      ],
      "execution_count": 0,
      "outputs": []
    },
    {
      "cell_type": "code",
      "metadata": {
        "id": "umqbp-_6vgap",
        "colab_type": "code",
        "colab": {}
      },
      "source": [
        "transforms = tf.Compose([tf.Resize(400),\n",
        "                         tf.ToTensor()])"
      ],
      "execution_count": 0,
      "outputs": []
    },
    {
      "cell_type": "code",
      "metadata": {
        "id": "7hJIFVMrvq2X",
        "colab_type": "code",
        "colab": {}
      },
      "source": [
        "img_tensor = transforms(img)"
      ],
      "execution_count": 0,
      "outputs": []
    },
    {
      "cell_type": "code",
      "metadata": {
        "id": "XIlA6YV4v1FT",
        "colab_type": "code",
        "colab": {}
      },
      "source": [
        "img_tensor.shape"
      ],
      "execution_count": 0,
      "outputs": []
    },
    {
      "cell_type": "code",
      "metadata": {
        "id": "OUJ9Ir7Sv4zr",
        "colab_type": "code",
        "colab": {}
      },
      "source": [
        "sharpen_kernel = [[[0, -1, 0]],\n",
        "                  [[-1, 5, -1]],\n",
        "                  [[0, -1, 0]]]"
      ],
      "execution_count": 0,
      "outputs": []
    },
    {
      "cell_type": "code",
      "metadata": {
        "id": "iqDDDb5Rx5PQ",
        "colab_type": "code",
        "colab": {}
      },
      "source": [
        "horizontal_line_kernal = [[[1, 0, -1]],\n",
        "                          [[0, 0, 0]],\n",
        "                          [[-1, 0, 1]]]"
      ],
      "execution_count": 0,
      "outputs": []
    },
    {
      "cell_type": "code",
      "metadata": {
        "id": "6kbFs3RPyXQV",
        "colab_type": "code",
        "colab": {}
      },
      "source": [
        "vertical_line_kernal = [[[0, 1, 0]],\n",
        "                        [[1, -4, 1]],\n",
        "                        [[0, 1, 0]]]"
      ],
      "execution_count": 0,
      "outputs": []
    },
    {
      "cell_type": "code",
      "metadata": {
        "id": "GMJ-o9uVyuJ5",
        "colab_type": "code",
        "colab": {}
      },
      "source": [
        "edge_detection_kernal = [[[-1,-1, -1]],\n",
        "                          [[-1, 8, -1]],\n",
        "                          [[-1, -1, -1]]]"
      ],
      "execution_count": 0,
      "outputs": []
    },
    {
      "cell_type": "code",
      "metadata": {
        "id": "nuu9i42ewNRN",
        "colab_type": "code",
        "colab": {}
      },
      "source": [
        "conv_filter = torch.Tensor(sharpen_kernel)"
      ],
      "execution_count": 0,
      "outputs": []
    },
    {
      "cell_type": "code",
      "metadata": {
        "id": "xYAyXwtIwisw",
        "colab_type": "code",
        "colab": {}
      },
      "source": [
        "conv_filter.shape"
      ],
      "execution_count": 0,
      "outputs": []
    },
    {
      "cell_type": "code",
      "metadata": {
        "id": "jT_nmWpMwnc-",
        "colab_type": "code",
        "colab": {}
      },
      "source": [
        "img_tensor = img_tensor.unsqueeze(0)"
      ],
      "execution_count": 0,
      "outputs": []
    },
    {
      "cell_type": "code",
      "metadata": {
        "id": "9qnCiuFbw3hC",
        "colab_type": "code",
        "colab": {}
      },
      "source": [
        "img_tensor.shape"
      ],
      "execution_count": 0,
      "outputs": []
    },
    {
      "cell_type": "code",
      "metadata": {
        "id": "yuF6XVgaw7Wm",
        "colab_type": "code",
        "colab": {}
      },
      "source": [
        "conv_tensor = F.conv2d(img_tensor, conv_filter, padding=0)"
      ],
      "execution_count": 0,
      "outputs": []
    },
    {
      "cell_type": "code",
      "metadata": {
        "id": "R2LDbkhWxDVt",
        "colab_type": "code",
        "colab": {}
      },
      "source": [
        "conv_tensor.shape"
      ],
      "execution_count": 0,
      "outputs": []
    },
    {
      "cell_type": "code",
      "metadata": {
        "id": "BYhX7CCOxJpp",
        "colab_type": "code",
        "colab": {}
      },
      "source": [
        "conv_img = conv_tensor[0, :, :, :]\n",
        "conv_img.shape"
      ],
      "execution_count": 0,
      "outputs": []
    },
    {
      "cell_type": "code",
      "metadata": {
        "id": "Zb5c1CeCxdvY",
        "colab_type": "code",
        "colab": {}
      },
      "source": [
        "conv_img = conv_img.numpy().squeeze()\n",
        "conv_img.shape"
      ],
      "execution_count": 0,
      "outputs": []
    },
    {
      "cell_type": "code",
      "metadata": {
        "id": "ZOw80Ms0xt3o",
        "colab_type": "code",
        "colab": {}
      },
      "source": [
        "plt.figure(figsize=(20,10))\n",
        "plt.show(conv_imag)"
      ],
      "execution_count": 0,
      "outputs": []
    },
    {
      "cell_type": "code",
      "metadata": {
        "id": "EYrPFb2Gy-sL",
        "colab_type": "code",
        "colab": {}
      },
      "source": [
        ""
      ],
      "execution_count": 0,
      "outputs": []
    },
    {
      "cell_type": "code",
      "metadata": {
        "id": "iMArtfPfy-7L",
        "colab_type": "code",
        "colab": {}
      },
      "source": [
        "pool = nn.MaxPool2d(2,2)"
      ],
      "execution_count": 0,
      "outputs": []
    },
    {
      "cell_type": "code",
      "metadata": {
        "id": "atzdSvMyzFZj",
        "colab_type": "code",
        "colab": {}
      },
      "source": [
        "pool_tensor = pool(conv_tensor)"
      ],
      "execution_count": 0,
      "outputs": []
    },
    {
      "cell_type": "code",
      "metadata": {
        "id": "Qc9HlLLszKy_",
        "colab_type": "code",
        "colab": {}
      },
      "source": [
        "pool_tensor.shape"
      ],
      "execution_count": 0,
      "outputs": []
    },
    {
      "cell_type": "code",
      "metadata": {
        "id": "NUUUFEzjzS3n",
        "colab_type": "code",
        "colab": {}
      },
      "source": [
        "pool_img = pool_tensor [0, :, :, :]\n",
        "pool_img"
      ],
      "execution_count": 0,
      "outputs": []
    },
    {
      "cell_type": "code",
      "metadata": {
        "id": "qWivntL-zbIj",
        "colab_type": "code",
        "colab": {}
      },
      "source": [
        "pool_img = pool_img.numpy().squeeze()\n",
        "pool_img.shape"
      ],
      "execution_count": 0,
      "outputs": []
    },
    {
      "cell_type": "code",
      "metadata": {
        "id": "6k0xcQ6yzjWs",
        "colab_type": "code",
        "colab": {}
      },
      "source": [
        "plt.figure(figsize=(20,10))\n",
        "plt.show(pool_img)"
      ],
      "execution_count": 0,
      "outputs": []
    },
    {
      "cell_type": "code",
      "metadata": {
        "id": "u3YE_JI4zoCN",
        "colab_type": "code",
        "colab": {}
      },
      "source": [
        ""
      ],
      "execution_count": 0,
      "outputs": []
    }
  ]
}