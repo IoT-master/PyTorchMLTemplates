{
  "nbformat": 4,
  "nbformat_minor": 0,
  "metadata": {
    "colab": {
      "name": "Linear Regression with a Simple Line Example.ipynb",
      "version": "0.3.2",
      "provenance": [],
      "include_colab_link": true
    },
    "kernelspec": {
      "name": "python3",
      "display_name": "Python 3"
    }
  },
  "cells": [
    {
      "cell_type": "markdown",
      "metadata": {
        "id": "view-in-github",
        "colab_type": "text"
      },
      "source": [
        "<a href=\"https://colab.research.google.com/github/IoT-master/PyTorchMLTemplates/blob/master/Linear_Regression_with_a_Simple_Line_Example.ipynb\" target=\"_parent\"><img src=\"https://colab.research.google.com/assets/colab-badge.svg\" alt=\"Open In Colab\"/></a>"
      ]
    },
    {
      "cell_type": "code",
      "metadata": {
        "id": "41P_JZngACkp",
        "colab_type": "code",
        "outputId": "6ef9f7dd-032a-4a41-ed36-6c845295adf7",
        "colab": {
          "base_uri": "https://localhost:8080/",
          "height": 51
        }
      },
      "source": [
        "!pip3 install torch"
      ],
      "execution_count": 1,
      "outputs": [
        {
          "output_type": "stream",
          "text": [
            "Requirement already satisfied: torch in /usr/local/lib/python3.6/dist-packages (1.1.0)\n",
            "Requirement already satisfied: numpy in /usr/local/lib/python3.6/dist-packages (from torch) (1.16.4)\n"
          ],
          "name": "stdout"
        }
      ]
    },
    {
      "cell_type": "code",
      "metadata": {
        "id": "Xiq3cP5SAEsF",
        "colab_type": "code",
        "colab": {}
      },
      "source": [
        "import torch\n",
        "import torch.nn as nn\n",
        "import matplotlib.pyplot as plt\n",
        "import numpy as np"
      ],
      "execution_count": 0,
      "outputs": []
    },
    {
      "cell_type": "code",
      "metadata": {
        "id": "F_FEVmDlDFAO",
        "colab_type": "code",
        "outputId": "94d32a19-e147-4be5-98a8-f30692d10782",
        "colab": {
          "base_uri": "https://localhost:8080/",
          "height": 300
        }
      },
      "source": [
        "X = torch.randn(100, 1)*10\n",
        "y = X + torch.randn(100, 1)*3\n",
        "# plt.axis([min(X), max(X), min(y), max(y)])\n",
        "plt.plot(X.numpy(), y.numpy(), 'o')\n",
        "plt.ylabel('y')\n",
        "plt.xlabel('x')"
      ],
      "execution_count": 3,
      "outputs": [
        {
          "output_type": "execute_result",
          "data": {
            "text/plain": [
              "Text(0.5, 0, 'x')"
            ]
          },
          "metadata": {
            "tags": []
          },
          "execution_count": 3
        },
        {
          "output_type": "display_data",
          "data": {
            "image/png": "[encoded data removed]",
            "text/plain": [
              "<Figure size 432x288 with 1 Axes>"
            ]
          },
          "metadata": {
            "tags": []
          }
        }
      ]
    },
    {
      "cell_type": "code",
      "metadata": {
        "id": "qEo7eDGlAKaW",
        "colab_type": "code",
        "colab": {}
      },
      "source": [
        "class LR(nn.Module):\n",
        "  def __init__(self, input_size, output_size):\n",
        "    super().__init__()\n",
        "    self.linear = nn.Linear(input_size, output_size) \n",
        "  def forward(self, x):\n",
        "    pred = self.linear(x)\n",
        "    return pred"
      ],
      "execution_count": 0,
      "outputs": []
    },
    {
      "cell_type": "code",
      "metadata": {
        "id": "I74ElLyHBOL7",
        "colab_type": "code",
        "outputId": "c28da6cb-eb19-46fc-f8d1-4fa4471b9c09",
        "colab": {
          "base_uri": "https://localhost:8080/",
          "height": 68
        }
      },
      "source": [
        "torch.manual_seed(1)\n",
        "model = LR(1, 1)\n",
        "print(model)"
      ],
      "execution_count": 5,
      "outputs": [
        {
          "output_type": "stream",
          "text": [
            "LR(\n",
            "  (linear): Linear(in_features=1, out_features=1, bias=True)\n",
            ")\n"
          ],
          "name": "stdout"
        }
      ]
    },
    {
      "cell_type": "code",
      "metadata": {
        "id": "TlAqrLc5EpB2",
        "colab_type": "code",
        "outputId": "f53b159c-0f41-4a73-e12a-100e9cc8be30",
        "colab": {
          "base_uri": "https://localhost:8080/",
          "height": 34
        }
      },
      "source": [
        "[w, b] = model.parameters()\n",
        "w1 = w[0][0].item()\n",
        "b1 = b[0].item()\n",
        "print(w1, b1)\n",
        "def get_params():\n",
        "  return (w[0][0].item(), b[0].item())"
      ],
      "execution_count": 6,
      "outputs": [
        {
          "output_type": "stream",
          "text": [
            "0.5152631998062134 -0.44137823581695557\n"
          ],
          "name": "stdout"
        }
      ]
    },
    {
      "cell_type": "code",
      "metadata": {
        "id": "m3OVE8zDFEA_",
        "colab_type": "code",
        "colab": {}
      },
      "source": [
        "def plot_fit(title):\n",
        "  plt.title(title)\n",
        "  w1, b1 = get_params()\n",
        "  x1 = np.array([-30,30])\n",
        "  y1 = w1*x1+b1\n",
        "  plt.plot(x1,y1, 'r')\n",
        "  plt.scatter(X, y)\n",
        "  plt.show()"
      ],
      "execution_count": 0,
      "outputs": []
    },
    {
      "cell_type": "code",
      "metadata": {
        "id": "XmnA5xRTF1Pe",
        "colab_type": "code",
        "outputId": "c1f79c71-b755-43ba-aa63-36c5c72a69c7",
        "colab": {
          "base_uri": "https://localhost:8080/",
          "height": 281
        }
      },
      "source": [
        "plot_fit('blah')"
      ],
      "execution_count": 8,
      "outputs": [
        {
          "output_type": "display_data",
          "data": {
            "image/png": "[encoded data removed]",
            "text/plain": [
              "<Figure size 432x288 with 1 Axes>"
            ]
          },
          "metadata": {
            "tags": []
          }
        }
      ]
    },
    {
      "cell_type": "code",
      "metadata": {
        "id": "8stqXL7FGDvg",
        "colab_type": "code",
        "colab": {}
      },
      "source": [
        "criterion = nn.MSELoss()\n",
        "optimizer = torch.optim.SGD(model.parameters(), lr=0.001)"
      ],
      "execution_count": 0,
      "outputs": []
    },
    {
      "cell_type": "code",
      "metadata": {
        "id": "PbqVLghEIU5Y",
        "colab_type": "code",
        "outputId": "1c88ae75-f6e9-4c1c-e8e1-8eb48ae36dcd",
        "colab": {
          "base_uri": "https://localhost:8080/",
          "height": 1000
        }
      },
      "source": [
        "epochs = 100\n",
        "losses = []\n",
        "for i in range(epochs):\n",
        "  y_pred = model.forward(X)\n",
        "  loss = criterion(y_pred, y)\n",
        "  print(\"epoch:\", i, \"loss:\", loss.item())\n",
        "  \n",
        "  losses.append(loss)\n",
        "  optimizer.zero_grad()\n",
        "  loss.backward()\n",
        "  optimizer.step()"
      ],
      "execution_count": 10,
      "outputs": [
        {
          "output_type": "stream",
          "text": [
            "epoch: 0 loss: 35.1236686706543\n",
            "epoch: 1 loss: 25.107995986938477\n",
            "epoch: 2 loss: 18.98021125793457\n",
            "epoch: 3 loss: 15.230956077575684\n",
            "epoch: 4 loss: 12.93682861328125\n",
            "epoch: 5 loss: 11.532917022705078\n",
            "epoch: 6 loss: 10.673620223999023\n",
            "epoch: 7 loss: 10.14750862121582\n",
            "epoch: 8 loss: 9.825231552124023\n",
            "epoch: 9 loss: 9.627660751342773\n",
            "epoch: 10 loss: 9.50638198852539\n",
            "epoch: 11 loss: 9.431777954101562\n",
            "epoch: 12 loss: 9.38573169708252\n",
            "epoch: 13 loss: 9.357156753540039\n",
            "epoch: 14 loss: 9.339273452758789\n",
            "epoch: 15 loss: 9.327930450439453\n",
            "epoch: 16 loss: 9.320592880249023\n",
            "epoch: 17 loss: 9.315705299377441\n",
            "epoch: 18 loss: 9.312318801879883\n",
            "epoch: 19 loss: 9.309852600097656\n",
            "epoch: 20 loss: 9.307950019836426\n",
            "epoch: 21 loss: 9.306394577026367\n",
            "epoch: 22 loss: 9.305052757263184\n",
            "epoch: 23 loss: 9.30384349822998\n",
            "epoch: 24 loss: 9.302716255187988\n",
            "epoch: 25 loss: 9.301641464233398\n",
            "epoch: 26 loss: 9.300600051879883\n",
            "epoch: 27 loss: 9.299579620361328\n",
            "epoch: 28 loss: 9.298575401306152\n",
            "epoch: 29 loss: 9.29758071899414\n",
            "epoch: 30 loss: 9.296595573425293\n",
            "epoch: 31 loss: 9.295616149902344\n",
            "epoch: 32 loss: 9.294641494750977\n",
            "epoch: 33 loss: 9.293671607971191\n",
            "epoch: 34 loss: 9.292706489562988\n",
            "epoch: 35 loss: 9.291746139526367\n",
            "epoch: 36 loss: 9.290789604187012\n",
            "epoch: 37 loss: 9.289836883544922\n",
            "epoch: 38 loss: 9.288887023925781\n",
            "epoch: 39 loss: 9.287941932678223\n",
            "epoch: 40 loss: 9.28700065612793\n",
            "epoch: 41 loss: 9.286063194274902\n",
            "epoch: 42 loss: 9.28512954711914\n",
            "epoch: 43 loss: 9.284198760986328\n",
            "epoch: 44 loss: 9.283272743225098\n",
            "epoch: 45 loss: 9.282349586486816\n",
            "epoch: 46 loss: 9.2814302444458\n",
            "epoch: 47 loss: 9.28051471710205\n",
            "epoch: 48 loss: 9.279603004455566\n",
            "epoch: 49 loss: 9.278695106506348\n",
            "epoch: 50 loss: 9.277790069580078\n",
            "epoch: 51 loss: 9.276888847351074\n",
            "epoch: 52 loss: 9.275991439819336\n",
            "epoch: 53 loss: 9.275097846984863\n",
            "epoch: 54 loss: 9.27420711517334\n",
            "epoch: 55 loss: 9.273320198059082\n",
            "epoch: 56 loss: 9.27243709564209\n",
            "epoch: 57 loss: 9.271556854248047\n",
            "epoch: 58 loss: 9.270681381225586\n",
            "epoch: 59 loss: 9.269807815551758\n",
            "epoch: 60 loss: 9.268938064575195\n",
            "epoch: 61 loss: 9.268073081970215\n",
            "epoch: 62 loss: 9.267210006713867\n",
            "epoch: 63 loss: 9.266350746154785\n",
            "epoch: 64 loss: 9.265495300292969\n",
            "epoch: 65 loss: 9.264643669128418\n",
            "epoch: 66 loss: 9.2637939453125\n",
            "epoch: 67 loss: 9.262948989868164\n",
            "epoch: 68 loss: 9.262106895446777\n",
            "epoch: 69 loss: 9.261266708374023\n",
            "epoch: 70 loss: 9.260432243347168\n",
            "epoch: 71 loss: 9.259600639343262\n",
            "epoch: 72 loss: 9.258770942687988\n",
            "epoch: 73 loss: 9.257946014404297\n",
            "epoch: 74 loss: 9.257122993469238\n",
            "epoch: 75 loss: 9.256303787231445\n",
            "epoch: 76 loss: 9.255488395690918\n",
            "epoch: 77 loss: 9.25467586517334\n",
            "epoch: 78 loss: 9.253866195678711\n",
            "epoch: 79 loss: 9.253060340881348\n",
            "epoch: 80 loss: 9.252257347106934\n",
            "epoch: 81 loss: 9.251458168029785\n",
            "epoch: 82 loss: 9.25066089630127\n",
            "epoch: 83 loss: 9.249868392944336\n",
            "epoch: 84 loss: 9.249077796936035\n",
            "epoch: 85 loss: 9.248291015625\n",
            "epoch: 86 loss: 9.247506141662598\n",
            "epoch: 87 loss: 9.246726036071777\n",
            "epoch: 88 loss: 9.24594783782959\n",
            "epoch: 89 loss: 9.245173454284668\n",
            "epoch: 90 loss: 9.244401931762695\n",
            "epoch: 91 loss: 9.243633270263672\n",
            "epoch: 92 loss: 9.242867469787598\n",
            "epoch: 93 loss: 9.242105484008789\n",
            "epoch: 94 loss: 9.24134635925293\n",
            "epoch: 95 loss: 9.240589141845703\n",
            "epoch: 96 loss: 9.239835739135742\n",
            "epoch: 97 loss: 9.239086151123047\n",
            "epoch: 98 loss: 9.238338470458984\n",
            "epoch: 99 loss: 9.237593650817871\n"
          ],
          "name": "stdout"
        }
      ]
    },
    {
      "cell_type": "code",
      "metadata": {
        "id": "yadq9L19JxYL",
        "colab_type": "code",
        "outputId": "2cefe35b-3dec-4838-90e4-b705297d4c62",
        "colab": {
          "base_uri": "https://localhost:8080/",
          "height": 300
        }
      },
      "source": [
        "plt.plot(range(epochs), losses)\n",
        "plt.ylabel('Loss')\n",
        "plt.xlabel('epoch')"
      ],
      "execution_count": 11,
      "outputs": [
        {
          "output_type": "execute_result",
          "data": {
            "text/plain": [
              "Text(0.5, 0, 'epoch')"
            ]
          },
          "metadata": {
            "tags": []
          },
          "execution_count": 11
        },
        {
          "output_type": "display_data",
          "data": {
            "image/png": "[encoded data removed]",
            "text/plain": [
              "<Figure size 432x288 with 1 Axes>"
            ]
          },
          "metadata": {
            "tags": []
          }
        }
      ]
    },
    {
      "cell_type": "code",
      "metadata": {
        "id": "mmtf5UfWKUhT",
        "colab_type": "code",
        "outputId": "1c7f303f-b217-4f6a-8eac-d6c4018be0fe",
        "colab": {
          "base_uri": "https://localhost:8080/",
          "height": 281
        },
        "cellView": "both"
      },
      "source": [
        "#@title\n",
        "plot_fit(\"blah2\")"
      ],
      "execution_count": 12,
      "outputs": [
        {
          "output_type": "display_data",
          "data": {
            "image/png": "[encoded data removed]",
            "text/plain": [
              "<Figure size 432x288 with 1 Axes>"
            ]
          },
          "metadata": {
            "tags": []
          }
        }
      ]
    },
    {
      "cell_type": "code",
      "metadata": {
        "id": "gcImQpijKb8X",
        "colab_type": "code",
        "outputId": "5b79677c-00a8-4ffe-ed70-6036e9cdb4ca",
        "colab": {
          "base_uri": "https://localhost:8080/",
          "height": 34
        }
      },
      "source": [
        "print(get_params())"
      ],
      "execution_count": 13,
      "outputs": [
        {
          "output_type": "stream",
          "text": [
            "(1.001164436340332, -0.3423668146133423)\n"
          ],
          "name": "stdout"
        }
      ]
    }
  ]
}