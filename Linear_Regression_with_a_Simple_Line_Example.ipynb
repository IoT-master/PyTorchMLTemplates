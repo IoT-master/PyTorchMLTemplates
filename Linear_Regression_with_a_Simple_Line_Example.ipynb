{
  "nbformat": 4,
  "nbformat_minor": 0,
  "metadata": {
    "colab": {
      "name": "Linear Regression with a Simple Line Example.ipynb",
      "version": "0.3.2",
      "provenance": [],
      "include_colab_link": true
    },
    "kernelspec": {
      "name": "python3",
      "display_name": "Python 3"
    }
  },
  "cells": [
    {
      "cell_type": "markdown",
      "metadata": {
        "id": "view-in-github",
        "colab_type": "text"
      },
      "source": [
        "<a href=\"https://colab.research.google.com/github/IoT-master/PyTorchMLTemplates/blob/master/Linear_Regression_with_a_Simple_Line_Example.ipynb\" target=\"_parent\"><img src=\"https://colab.research.google.com/assets/colab-badge.svg\" alt=\"Open In Colab\"/></a>"
      ]
    },
    {
      "cell_type": "code",
      "metadata": {
        "id": "41P_JZngACkp",
        "colab_type": "code",
        "outputId": "44edc4ae-d4b4-4f47-844d-cce654cba29e",
        "colab": {
          "base_uri": "https://localhost:8080/",
          "height": 51
        }
      },
      "source": [
        "!pip3 install torch"
      ],
      "execution_count": 1,
      "outputs": [
        {
          "output_type": "stream",
          "text": [
            "Requirement already satisfied: torch in /usr/local/lib/python3.6/dist-packages (1.1.0)\n",
            "Requirement already satisfied: numpy in /usr/local/lib/python3.6/dist-packages (from torch) (1.16.4)\n"
          ],
          "name": "stdout"
        }
      ]
    },
    {
      "cell_type": "code",
      "metadata": {
        "id": "Xiq3cP5SAEsF",
        "colab_type": "code",
        "colab": {}
      },
      "source": [
        "import torch\n",
        "import torch.nn as nn\n",
        "import matplotlib.pyplot as plt\n",
        "import numpy as np"
      ],
      "execution_count": 0,
      "outputs": []
    },
    {
      "cell_type": "code",
      "metadata": {
        "id": "F_FEVmDlDFAO",
        "colab_type": "code",
        "outputId": "7ecd331b-1753-4015-a7e0-ae4a1583470e",
        "colab": {
          "base_uri": "https://localhost:8080/",
          "height": 312
        }
      },
      "source": [
        "X = torch.randn(100, 1)*10\n",
        "y = X + torch.randn(100, 1)*3\n",
        "# plt.axis([min(X), max(X), min(y), max(y)])\n",
        "plt.plot(X.numpy(), y.numpy(), 'o')\n",
        "plt.ylabel('y')\n",
        "plt.xlabel('x')\n",
        "plt.title('Visualization of the scatter X and y values')"
      ],
      "execution_count": 3,
      "outputs": [
        {
          "output_type": "execute_result",
          "data": {
            "text/plain": [
              "Text(0.5, 1.0, 'Visualization of the scatter X and y values')"
            ]
          },
          "metadata": {
            "tags": []
          },
          "execution_count": 3
        },
        {
          "output_type": "display_data",
          "data": {
            "image/png": "[encoded data removed]",
            "text/plain": [
              "<Figure size 432x288 with 1 Axes>"
            ]
          },
          "metadata": {
            "tags": []
          }
        }
      ]
    },
    {
      "cell_type": "code",
      "metadata": {
        "id": "qEo7eDGlAKaW",
        "colab_type": "code",
        "colab": {}
      },
      "source": [
        "class LR(nn.Module):\n",
        "  def __init__(self, input_size, output_size):\n",
        "    super().__init__()\n",
        "    self.linear = nn.Linear(input_size, output_size) \n",
        "  def forward(self, x):\n",
        "    pred = self.linear(x)\n",
        "    return pred"
      ],
      "execution_count": 0,
      "outputs": []
    },
    {
      "cell_type": "code",
      "metadata": {
        "id": "I74ElLyHBOL7",
        "colab_type": "code",
        "outputId": "0927acde-54bf-4516-dd3b-122b4316e510",
        "colab": {
          "base_uri": "https://localhost:8080/",
          "height": 68
        }
      },
      "source": [
        "#This will seed the data, so the results will always be the same on every run\n",
        "torch.manual_seed(1)\n",
        "model = LR(1, 1)\n",
        "print(model)"
      ],
      "execution_count": 5,
      "outputs": [
        {
          "output_type": "stream",
          "text": [
            "LR(\n",
            "  (linear): Linear(in_features=1, out_features=1, bias=True)\n",
            ")\n"
          ],
          "name": "stdout"
        }
      ]
    },
    {
      "cell_type": "code",
      "metadata": {
        "id": "TlAqrLc5EpB2",
        "colab_type": "code",
        "outputId": "83ebbab0-67ed-4560-e55f-3d1e7051d631",
        "colab": {
          "base_uri": "https://localhost:8080/",
          "height": 34
        }
      },
      "source": [
        "[w, b] = model.parameters()\n",
        "w1 = w[0][0].item()\n",
        "b1 = b[0].item()\n",
        "print(w1, b1)\n",
        "# This should always show 0.5152631998062134 -0.44137823581695557, where w1 is the first value and b1 is the second value.\n",
        "def get_params():\n",
        "  return (w[0][0].item(), b[0].item())"
      ],
      "execution_count": 6,
      "outputs": [
        {
          "output_type": "stream",
          "text": [
            "0.5152631998062134 -0.44137823581695557\n"
          ],
          "name": "stdout"
        }
      ]
    },
    {
      "cell_type": "code",
      "metadata": {
        "id": "m3OVE8zDFEA_",
        "colab_type": "code",
        "colab": {}
      },
      "source": [
        "def plot_fit(title):\n",
        "  plt.title(title)\n",
        "  w1, b1 = get_params()\n",
        "  x1 = np.array([-30,30])\n",
        "  y1 = w1*x1+b1\n",
        "  plt.plot(x1,y1, 'r')\n",
        "  plt.scatter(X, y)\n",
        "  plt.show()"
      ],
      "execution_count": 0,
      "outputs": []
    },
    {
      "cell_type": "code",
      "metadata": {
        "id": "XmnA5xRTF1Pe",
        "colab_type": "code",
        "outputId": "fe63c442-a8f9-4fc9-c07c-54967e54191b",
        "colab": {
          "base_uri": "https://localhost:8080/",
          "height": 281
        }
      },
      "source": [
        "plot_fit('Initial Guess of y=mx+b to fit Scatter Plot')"
      ],
      "execution_count": 8,
      "outputs": [
        {
          "output_type": "display_data",
          "data": {
            "image/png": "[encoded data removed]",
            "text/plain": [
              "<Figure size 432x288 with 1 Axes>"
            ]
          },
          "metadata": {
            "tags": []
          }
        }
      ]
    },
    {
      "cell_type": "code",
      "metadata": {
        "id": "8stqXL7FGDvg",
        "colab_type": "code",
        "colab": {}
      },
      "source": [
        "criterion = nn.MSELoss()\n",
        "optimizer = torch.optim.SGD(model.parameters(), lr=0.001)"
      ],
      "execution_count": 0,
      "outputs": []
    },
    {
      "cell_type": "code",
      "metadata": {
        "id": "PbqVLghEIU5Y",
        "colab_type": "code",
        "outputId": "2750be7a-bfda-4025-e32c-067f71bffbf4",
        "colab": {
          "base_uri": "https://localhost:8080/",
          "height": 1000
        }
      },
      "source": [
        "epochs = 100\n",
        "losses = []\n",
        "for i in range(epochs):\n",
        "  y_pred = model.forward(X)\n",
        "  loss = criterion(y_pred, y)\n",
        "  print(\"epoch:\", i, \"loss:\", loss.item())\n",
        "  \n",
        "  losses.append(loss)\n",
        "  optimizer.zero_grad()\n",
        "  loss.backward()\n",
        "  optimizer.step()"
      ],
      "execution_count": 10,
      "outputs": [
        {
          "output_type": "stream",
          "text": [
            "epoch: 0 loss: 29.492820739746094\n",
            "epoch: 1 loss: 23.270309448242188\n",
            "epoch: 2 loss: 19.004030227661133\n",
            "epoch: 3 loss: 16.078929901123047\n",
            "epoch: 4 loss: 14.073341369628906\n",
            "epoch: 5 loss: 12.698162078857422\n",
            "epoch: 6 loss: 11.755189895629883\n",
            "epoch: 7 loss: 11.108538627624512\n",
            "epoch: 8 loss: 10.66504192352295\n",
            "epoch: 9 loss: 10.36082935333252\n",
            "epoch: 10 loss: 10.152109146118164\n",
            "epoch: 11 loss: 10.008858680725098\n",
            "epoch: 12 loss: 9.910494804382324\n",
            "epoch: 13 loss: 9.842905044555664\n",
            "epoch: 14 loss: 9.796415328979492\n",
            "epoch: 15 loss: 9.76439094543457\n",
            "epoch: 16 loss: 9.74228572845459\n",
            "epoch: 17 loss: 9.726981163024902\n",
            "epoch: 18 loss: 9.716340065002441\n",
            "epoch: 19 loss: 9.70889663696289\n",
            "epoch: 20 loss: 9.703645706176758\n",
            "epoch: 21 loss: 9.699899673461914\n",
            "epoch: 22 loss: 9.697183609008789\n",
            "epoch: 23 loss: 9.69517707824707\n",
            "epoch: 24 loss: 9.693655967712402\n",
            "epoch: 25 loss: 9.69246768951416\n",
            "epoch: 26 loss: 9.691510200500488\n",
            "epoch: 27 loss: 9.690710067749023\n",
            "epoch: 28 loss: 9.690018653869629\n",
            "epoch: 29 loss: 9.689401626586914\n",
            "epoch: 30 loss: 9.688838005065918\n",
            "epoch: 31 loss: 9.688310623168945\n",
            "epoch: 32 loss: 9.6878080368042\n",
            "epoch: 33 loss: 9.687323570251465\n",
            "epoch: 34 loss: 9.686851501464844\n",
            "epoch: 35 loss: 9.686389923095703\n",
            "epoch: 36 loss: 9.685935020446777\n",
            "epoch: 37 loss: 9.685484886169434\n",
            "epoch: 38 loss: 9.685039520263672\n",
            "epoch: 39 loss: 9.684597969055176\n",
            "epoch: 40 loss: 9.684158325195312\n",
            "epoch: 41 loss: 9.683721542358398\n",
            "epoch: 42 loss: 9.683286666870117\n",
            "epoch: 43 loss: 9.682854652404785\n",
            "epoch: 44 loss: 9.682424545288086\n",
            "epoch: 45 loss: 9.681995391845703\n",
            "epoch: 46 loss: 9.68156909942627\n",
            "epoch: 47 loss: 9.681143760681152\n",
            "epoch: 48 loss: 9.680721282958984\n",
            "epoch: 49 loss: 9.68030071258545\n",
            "epoch: 50 loss: 9.679880142211914\n",
            "epoch: 51 loss: 9.679462432861328\n",
            "epoch: 52 loss: 9.679045677185059\n",
            "epoch: 53 loss: 9.678631782531738\n",
            "epoch: 54 loss: 9.678218841552734\n",
            "epoch: 55 loss: 9.677807807922363\n",
            "epoch: 56 loss: 9.677397727966309\n",
            "epoch: 57 loss: 9.676990509033203\n",
            "epoch: 58 loss: 9.676583290100098\n",
            "epoch: 59 loss: 9.676178932189941\n",
            "epoch: 60 loss: 9.675775527954102\n",
            "epoch: 61 loss: 9.675374984741211\n",
            "epoch: 62 loss: 9.67497444152832\n",
            "epoch: 63 loss: 9.674575805664062\n",
            "epoch: 64 loss: 9.674179077148438\n",
            "epoch: 65 loss: 9.673784255981445\n",
            "epoch: 66 loss: 9.67339038848877\n",
            "epoch: 67 loss: 9.672999382019043\n",
            "epoch: 68 loss: 9.672608375549316\n",
            "epoch: 69 loss: 9.672219276428223\n",
            "epoch: 70 loss: 9.671832084655762\n",
            "epoch: 71 loss: 9.671446800231934\n",
            "epoch: 72 loss: 9.671062469482422\n",
            "epoch: 73 loss: 9.670680046081543\n",
            "epoch: 74 loss: 9.67029857635498\n",
            "epoch: 75 loss: 9.669919967651367\n",
            "epoch: 76 loss: 9.669541358947754\n",
            "epoch: 77 loss: 9.669163703918457\n",
            "epoch: 78 loss: 9.66878890991211\n",
            "epoch: 79 loss: 9.668416023254395\n",
            "epoch: 80 loss: 9.668044090270996\n",
            "epoch: 81 loss: 9.667673110961914\n",
            "epoch: 82 loss: 9.667304039001465\n",
            "epoch: 83 loss: 9.666935920715332\n",
            "epoch: 84 loss: 9.666569709777832\n",
            "epoch: 85 loss: 9.666205406188965\n",
            "epoch: 86 loss: 9.665842056274414\n",
            "epoch: 87 loss: 9.665480613708496\n",
            "epoch: 88 loss: 9.665120124816895\n",
            "epoch: 89 loss: 9.664761543273926\n",
            "epoch: 90 loss: 9.664403915405273\n",
            "epoch: 91 loss: 9.664047241210938\n",
            "epoch: 92 loss: 9.663692474365234\n",
            "epoch: 93 loss: 9.663339614868164\n",
            "epoch: 94 loss: 9.66298770904541\n",
            "epoch: 95 loss: 9.662637710571289\n",
            "epoch: 96 loss: 9.662288665771484\n",
            "epoch: 97 loss: 9.661940574645996\n",
            "epoch: 98 loss: 9.66159439086914\n",
            "epoch: 99 loss: 9.661250114440918\n"
          ],
          "name": "stdout"
        }
      ]
    },
    {
      "cell_type": "code",
      "metadata": {
        "id": "yadq9L19JxYL",
        "colab_type": "code",
        "outputId": "dc008b9f-f5e6-4929-86e1-dca2ef5f870f",
        "colab": {
          "base_uri": "https://localhost:8080/",
          "height": 312
        }
      },
      "source": [
        "plt.plot(range(epochs), losses)\n",
        "plt.ylabel('Loss')\n",
        "plt.xlabel('epoch')\n",
        "plt.title('Loss/Error Seen by each epoch')"
      ],
      "execution_count": 11,
      "outputs": [
        {
          "output_type": "execute_result",
          "data": {
            "text/plain": [
              "Text(0.5, 1.0, 'Loss/Error Seen by each epoch')"
            ]
          },
          "metadata": {
            "tags": []
          },
          "execution_count": 11
        },
        {
          "output_type": "display_data",
          "data": {
            "image/png": "[encoded data removed]",
            "text/plain": [
              "<Figure size 432x288 with 1 Axes>"
            ]
          },
          "metadata": {
            "tags": []
          }
        }
      ]
    },
    {
      "cell_type": "code",
      "metadata": {
        "id": "mmtf5UfWKUhT",
        "colab_type": "code",
        "outputId": "1a57a55c-4f5e-43e4-96e9-b5924032f139",
        "colab": {
          "base_uri": "https://localhost:8080/",
          "height": 281
        },
        "cellView": "both"
      },
      "source": [
        "#@title\n",
        "plot_fit(\"Best Fit Line Found Using Linear Regression\")"
      ],
      "execution_count": 12,
      "outputs": [
        {
          "output_type": "display_data",
          "data": {
            "image/png": "[encoded data removed]",
            "text/plain": [
              "<Figure size 432x288 with 1 Axes>"
            ]
          },
          "metadata": {
            "tags": []
          }
        }
      ]
    },
    {
      "cell_type": "code",
      "metadata": {
        "id": "gcImQpijKb8X",
        "colab_type": "code",
        "outputId": "093945c7-0034-4036-9e08-62d962942301",
        "colab": {
          "base_uri": "https://localhost:8080/",
          "height": 34
        }
      },
      "source": [
        "print(get_params())"
      ],
      "execution_count": 13,
      "outputs": [
        {
          "output_type": "stream",
          "text": [
            "(0.9950686693191528, -0.3772332966327667)\n"
          ],
          "name": "stdout"
        }
      ]
    }
  ]
}