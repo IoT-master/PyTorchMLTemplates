{
  "nbformat": 4,
  "nbformat_minor": 0,
  "metadata": {
    "colab": {
      "name": "Linear Regression with a Simple Line Example.ipynb",
      "version": "0.3.2",
      "provenance": [],
      "include_colab_link": true
    },
    "kernelspec": {
      "name": "python3",
      "display_name": "Python 3"
    }
  },
  "cells": [
    {
      "cell_type": "markdown",
      "metadata": {
        "id": "view-in-github",
        "colab_type": "text"
      },
      "source": [
        "<a href=\"https://colab.research.google.com/github/IoT-master/PyTorchMLTemplates/blob/master/Linear_Regression_with_a_Simple_Line_Example.ipynb\" target=\"_parent\"><img src=\"https://colab.research.google.com/assets/colab-badge.svg\" alt=\"Open In Colab\"/></a>"
      ]
    },
    {
      "cell_type": "code",
      "metadata": {
        "id": "41P_JZngACkp",
        "colab_type": "code",
        "outputId": "3b87a262-1a9d-4771-8a58-4f9707a60f30",
        "colab": {
          "base_uri": "https://localhost:8080/",
          "height": 51
        }
      },
      "source": [
        "!pip3 install torch"
      ],
      "execution_count": 19,
      "outputs": [
        {
          "output_type": "stream",
          "text": [
            "Requirement already satisfied: torch in /usr/local/lib/python3.6/dist-packages (1.1.0)\n",
            "Requirement already satisfied: numpy in /usr/local/lib/python3.6/dist-packages (from torch) (1.16.4)\n"
          ],
          "name": "stdout"
        }
      ]
    },
    {
      "cell_type": "code",
      "metadata": {
        "id": "Xiq3cP5SAEsF",
        "colab_type": "code",
        "colab": {}
      },
      "source": [
        "import torch\n",
        "import torch.nn as nn\n",
        "import matplotlib.pyplot as plt\n",
        "import numpy as np"
      ],
      "execution_count": 0,
      "outputs": []
    },
    {
      "cell_type": "code",
      "metadata": {
        "id": "F_FEVmDlDFAO",
        "colab_type": "code",
        "outputId": "cc6d719e-58f4-4b80-be66-c779e1d73af0",
        "colab": {
          "base_uri": "https://localhost:8080/",
          "height": 312
        }
      },
      "source": [
        "X = torch.randn(100, 1)*10\n",
        "y = X + torch.randn(100, 1)*3\n",
        "# plt.axis([min(X), max(X), min(y), max(y)])\n",
        "plt.plot(X.numpy(), y.numpy(), 'o')\n",
        "plt.ylabel('y')\n",
        "plt.xlabel('x')\n",
        "plt.title('Visualization of the scatter X and y values')"
      ],
      "execution_count": 21,
      "outputs": [
        {
          "output_type": "execute_result",
          "data": {
            "text/plain": [
              "Text(0.5, 1.0, 'Visualization of the scatter X and y values')"
            ]
          },
          "metadata": {
            "tags": []
          },
          "execution_count": 21
        },
        {
          "output_type": "display_data",
          "data": {
            "image/png": "[encoded data removed]",
            "text/plain": [
              "<Figure size 432x288 with 1 Axes>"
            ]
          },
          "metadata": {
            "tags": []
          }
        }
      ]
    },
    {
      "cell_type": "code",
      "metadata": {
        "id": "qEo7eDGlAKaW",
        "colab_type": "code",
        "colab": {}
      },
      "source": [
        "class LR(nn.Module):\n",
        "  def __init__(self, input_size, output_size):\n",
        "    super().__init__()\n",
        "    self.linear = nn.Linear(input_size, output_size) \n",
        "  def forward(self, x):\n",
        "    pred = self.linear(x)\n",
        "    return pred"
      ],
      "execution_count": 0,
      "outputs": []
    },
    {
      "cell_type": "code",
      "metadata": {
        "id": "I74ElLyHBOL7",
        "colab_type": "code",
        "outputId": "6dc60c94-b060-4626-e3e9-94034a96d6d0",
        "colab": {
          "base_uri": "https://localhost:8080/",
          "height": 68
        }
      },
      "source": [
        "#This will seed the data, so the results will always be the same on every run\n",
        "torch.manual_seed(1)\n",
        "model = LR(1, 1)\n",
        "print(model)"
      ],
      "execution_count": 23,
      "outputs": [
        {
          "output_type": "stream",
          "text": [
            "LR(\n",
            "  (linear): Linear(in_features=1, out_features=1, bias=True)\n",
            ")\n"
          ],
          "name": "stdout"
        }
      ]
    },
    {
      "cell_type": "code",
      "metadata": {
        "id": "TlAqrLc5EpB2",
        "colab_type": "code",
        "outputId": "942499e0-d37d-41d4-c537-2c40443da55f",
        "colab": {
          "base_uri": "https://localhost:8080/",
          "height": 34
        }
      },
      "source": [
        "[w, b] = model.parameters()\n",
        "w1 = w[0][0].item()\n",
        "b1 = b[0].item()\n",
        "print(w1, b1)\n",
        "# This should always show 0.5152631998062134 -0.44137823581695557, where w1 is the first value and b1 is the second value.\n",
        "def get_params():\n",
        "  return (w[0][0].item(), b[0].item())"
      ],
      "execution_count": 24,
      "outputs": [
        {
          "output_type": "stream",
          "text": [
            "0.5152631998062134 -0.44137823581695557\n"
          ],
          "name": "stdout"
        }
      ]
    },
    {
      "cell_type": "code",
      "metadata": {
        "id": "m3OVE8zDFEA_",
        "colab_type": "code",
        "colab": {}
      },
      "source": [
        "def plot_fit(title):\n",
        "  plt.title(title)\n",
        "  w1, b1 = get_params()\n",
        "  x1 = np.array([-30,30])\n",
        "  y1 = w1*x1+b1\n",
        "  plt.plot(x1,y1, 'r')\n",
        "  plt.scatter(X, y)\n",
        "  plt.show()"
      ],
      "execution_count": 0,
      "outputs": []
    },
    {
      "cell_type": "code",
      "metadata": {
        "id": "XmnA5xRTF1Pe",
        "colab_type": "code",
        "outputId": "10de4831-f631-41ac-b8e6-96c6bcf85d86",
        "colab": {
          "base_uri": "https://localhost:8080/",
          "height": 281
        }
      },
      "source": [
        "plot_fit('Initial Guess of y=mx+b to fit Scatter Plot')"
      ],
      "execution_count": 26,
      "outputs": [
        {
          "output_type": "display_data",
          "data": {
            "image/png": "[encoded data removed]",
            "text/plain": [
              "<Figure size 432x288 with 1 Axes>"
            ]
          },
          "metadata": {
            "tags": []
          }
        }
      ]
    },
    {
      "cell_type": "code",
      "metadata": {
        "id": "8stqXL7FGDvg",
        "colab_type": "code",
        "colab": {}
      },
      "source": [
        "criterion = nn.MSELoss()\n",
        "optimizer = torch.optim.SGD(model.parameters(), lr=0.001)"
      ],
      "execution_count": 0,
      "outputs": []
    },
    {
      "cell_type": "code",
      "metadata": {
        "id": "PbqVLghEIU5Y",
        "colab_type": "code",
        "outputId": "67162880-ed19-4bab-e843-132072c0c009",
        "colab": {
          "base_uri": "https://localhost:8080/",
          "height": 1000
        }
      },
      "source": [
        "epochs = 100\n",
        "losses = []\n",
        "for i in range(epochs):\n",
        "  y_pred = model.forward(X)\n",
        "  loss = criterion(y_pred, y)\n",
        "  print(\"epoch:\", i, \"loss:\", loss.item())\n",
        "  \n",
        "  losses.append(loss)\n",
        "  optimizer.zero_grad()\n",
        "  loss.backward()\n",
        "  optimizer.step()"
      ],
      "execution_count": 28,
      "outputs": [
        {
          "output_type": "stream",
          "text": [
            "epoch: 0 loss: 28.914575576782227\n",
            "epoch: 1 loss: 22.89649772644043\n",
            "epoch: 2 loss: 18.798683166503906\n",
            "epoch: 3 loss: 16.008407592773438\n",
            "epoch: 4 loss: 14.108458518981934\n",
            "epoch: 5 loss: 12.814749717712402\n",
            "epoch: 6 loss: 11.933838844299316\n",
            "epoch: 7 loss: 11.334009170532227\n",
            "epoch: 8 loss: 10.925572395324707\n",
            "epoch: 9 loss: 10.647459030151367\n",
            "epoch: 10 loss: 10.458084106445312\n",
            "epoch: 11 loss: 10.329133987426758\n",
            "epoch: 12 loss: 10.241328239440918\n",
            "epoch: 13 loss: 10.181537628173828\n",
            "epoch: 14 loss: 10.140823364257812\n",
            "epoch: 15 loss: 10.11309814453125\n",
            "epoch: 16 loss: 10.094218254089355\n",
            "epoch: 17 loss: 10.081360816955566\n",
            "epoch: 18 loss: 10.072604179382324\n",
            "epoch: 19 loss: 10.06663990020752\n",
            "epoch: 20 loss: 10.062576293945312\n",
            "epoch: 21 loss: 10.059807777404785\n",
            "epoch: 22 loss: 10.057920455932617\n",
            "epoch: 23 loss: 10.056633949279785\n",
            "epoch: 24 loss: 10.055756568908691\n",
            "epoch: 25 loss: 10.055156707763672\n",
            "epoch: 26 loss: 10.054746627807617\n",
            "epoch: 27 loss: 10.054465293884277\n",
            "epoch: 28 loss: 10.054272651672363\n",
            "epoch: 29 loss: 10.054139137268066\n",
            "epoch: 30 loss: 10.054046630859375\n",
            "epoch: 31 loss: 10.053982734680176\n",
            "epoch: 32 loss: 10.053936958312988\n",
            "epoch: 33 loss: 10.053903579711914\n",
            "epoch: 34 loss: 10.053879737854004\n",
            "epoch: 35 loss: 10.053860664367676\n",
            "epoch: 36 loss: 10.053847312927246\n",
            "epoch: 37 loss: 10.05383586883545\n",
            "epoch: 38 loss: 10.053826332092285\n",
            "epoch: 39 loss: 10.053818702697754\n",
            "epoch: 40 loss: 10.053811073303223\n",
            "epoch: 41 loss: 10.053804397583008\n",
            "epoch: 42 loss: 10.05379867553711\n",
            "epoch: 43 loss: 10.053792953491211\n",
            "epoch: 44 loss: 10.053787231445312\n",
            "epoch: 45 loss: 10.053781509399414\n",
            "epoch: 46 loss: 10.053775787353516\n",
            "epoch: 47 loss: 10.053771018981934\n",
            "epoch: 48 loss: 10.053766250610352\n",
            "epoch: 49 loss: 10.053760528564453\n",
            "epoch: 50 loss: 10.053755760192871\n",
            "epoch: 51 loss: 10.053750038146973\n",
            "epoch: 52 loss: 10.05374526977539\n",
            "epoch: 53 loss: 10.053739547729492\n",
            "epoch: 54 loss: 10.05373477935791\n",
            "epoch: 55 loss: 10.053730010986328\n",
            "epoch: 56 loss: 10.053725242614746\n",
            "epoch: 57 loss: 10.053720474243164\n",
            "epoch: 58 loss: 10.053714752197266\n",
            "epoch: 59 loss: 10.053709983825684\n",
            "epoch: 60 loss: 10.053705215454102\n",
            "epoch: 61 loss: 10.05370044708252\n",
            "epoch: 62 loss: 10.053695678710938\n",
            "epoch: 63 loss: 10.053690910339355\n",
            "epoch: 64 loss: 10.053686141967773\n",
            "epoch: 65 loss: 10.053680419921875\n",
            "epoch: 66 loss: 10.05367660522461\n",
            "epoch: 67 loss: 10.053671836853027\n",
            "epoch: 68 loss: 10.053666114807129\n",
            "epoch: 69 loss: 10.053662300109863\n",
            "epoch: 70 loss: 10.053657531738281\n",
            "epoch: 71 loss: 10.0536527633667\n",
            "epoch: 72 loss: 10.053647994995117\n",
            "epoch: 73 loss: 10.053643226623535\n",
            "epoch: 74 loss: 10.053638458251953\n",
            "epoch: 75 loss: 10.053633689880371\n",
            "epoch: 76 loss: 10.053628921508789\n",
            "epoch: 77 loss: 10.053624153137207\n",
            "epoch: 78 loss: 10.053619384765625\n",
            "epoch: 79 loss: 10.05361557006836\n",
            "epoch: 80 loss: 10.053610801696777\n",
            "epoch: 81 loss: 10.053606033325195\n",
            "epoch: 82 loss: 10.05360221862793\n",
            "epoch: 83 loss: 10.053597450256348\n",
            "epoch: 84 loss: 10.053592681884766\n",
            "epoch: 85 loss: 10.0535888671875\n",
            "epoch: 86 loss: 10.053584098815918\n",
            "epoch: 87 loss: 10.053579330444336\n",
            "epoch: 88 loss: 10.05357551574707\n",
            "epoch: 89 loss: 10.053571701049805\n",
            "epoch: 90 loss: 10.053566932678223\n",
            "epoch: 91 loss: 10.05356216430664\n",
            "epoch: 92 loss: 10.053558349609375\n",
            "epoch: 93 loss: 10.053553581237793\n",
            "epoch: 94 loss: 10.053548812866211\n",
            "epoch: 95 loss: 10.053544998168945\n",
            "epoch: 96 loss: 10.05354118347168\n",
            "epoch: 97 loss: 10.053536415100098\n",
            "epoch: 98 loss: 10.053532600402832\n",
            "epoch: 99 loss: 10.05352783203125\n"
          ],
          "name": "stdout"
        }
      ]
    },
    {
      "cell_type": "code",
      "metadata": {
        "id": "yadq9L19JxYL",
        "colab_type": "code",
        "outputId": "7e0c334c-1998-4ce9-8c79-788fc3cc5ff6",
        "colab": {
          "base_uri": "https://localhost:8080/",
          "height": 312
        }
      },
      "source": [
        "plt.plot(range(epochs), losses)\n",
        "plt.ylabel('Loss')\n",
        "plt.xlabel('epoch')\n",
        "plt.title('Loss/Error Seen by each epoch')"
      ],
      "execution_count": 29,
      "outputs": [
        {
          "output_type": "execute_result",
          "data": {
            "text/plain": [
              "Text(0.5, 1.0, 'Loss/Error Seen by each epoch')"
            ]
          },
          "metadata": {
            "tags": []
          },
          "execution_count": 29
        },
        {
          "output_type": "display_data",
          "data": {
            "image/png": "[encoded data removed]",
            "text/plain": [
              "<Figure size 432x288 with 1 Axes>"
            ]
          },
          "metadata": {
            "tags": []
          }
        }
      ]
    },
    {
      "cell_type": "code",
      "metadata": {
        "id": "mmtf5UfWKUhT",
        "colab_type": "code",
        "outputId": "809c201b-953f-4f3d-951d-6b1589e88f52",
        "colab": {
          "base_uri": "https://localhost:8080/",
          "height": 281
        },
        "cellView": "both"
      },
      "source": [
        "#@title\n",
        "plot_fit(\"Best Fit Line Found Using Linear Regression\")"
      ],
      "execution_count": 30,
      "outputs": [
        {
          "output_type": "display_data",
          "data": {
            "image/png": "[encoded data removed]",
            "text/plain": [
              "<Figure size 432x288 with 1 Axes>"
            ]
          },
          "metadata": {
            "tags": []
          }
        }
      ]
    },
    {
      "cell_type": "code",
      "metadata": {
        "id": "gcImQpijKb8X",
        "colab_type": "code",
        "outputId": "51540fcd-6058-43c1-e5a9-f33f72411413",
        "colab": {
          "base_uri": "https://localhost:8080/",
          "height": 34
        }
      },
      "source": [
        "print(get_params())"
      ],
      "execution_count": 31,
      "outputs": [
        {
          "output_type": "stream",
          "text": [
            "(0.9798119068145752, -0.44499996304512024)\n"
          ],
          "name": "stdout"
        }
      ]
    }
  ]
}