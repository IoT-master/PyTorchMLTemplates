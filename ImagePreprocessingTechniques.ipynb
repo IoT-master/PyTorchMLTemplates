{
  "nbformat": 4,
  "nbformat_minor": 0,
  "metadata": {
    "colab": {
      "name": "ImagePreprocessingTechniques.ipynb",
      "provenance": [],
      "collapsed_sections": []
    },
    "kernelspec": {
      "name": "python3",
      "display_name": "Python 3"
    },
    "accelerator": "GPU"
  },
  "cells": [
    {
      "cell_type": "code",
      "metadata": {
        "id": "JvTH-8_TiGaB",
        "colab_type": "code",
        "colab": {}
      },
      "source": [
        "import skimage\n",
        "from skimage import data\n",
        "\n",
        "import numpy as np\n",
        "\n",
        "import matplotlib.pyplot as plt\n",
        "import matplotlib.image as mpimg"
      ],
      "execution_count": 0,
      "outputs": []
    },
    {
      "cell_type": "code",
      "metadata": {
        "id": "uUTtS6eMj4vq",
        "colab_type": "code",
        "colab": {}
      },
      "source": [
        "bird = mpimg.imread(\"datasets/images/bird.jpeg\")"
      ],
      "execution_count": 0,
      "outputs": []
    },
    {
      "cell_type": "code",
      "metadata": {
        "id": "vA_EvW0tkCfq",
        "colab_type": "code",
        "colab": {}
      },
      "source": [
        "plt.title(\"Original Image\")\n",
        "plt.imshow(bird)"
      ],
      "execution_count": 0,
      "outputs": []
    },
    {
      "cell_type": "code",
      "metadata": {
        "id": "ycublmfgkNDw",
        "colab_type": "code",
        "colab": {}
      },
      "source": [
        "bird.shape"
      ],
      "execution_count": 0,
      "outputs": []
    },
    {
      "cell_type": "code",
      "metadata": {
        "id": "CBFC7MZgkTFF",
        "colab_type": "code",
        "colab": {}
      },
      "source": [
        "bird[200: 250, 200:250]"
      ],
      "execution_count": 0,
      "outputs": []
    },
    {
      "cell_type": "code",
      "metadata": {
        "id": "gONQk4hpkcPL",
        "colab_type": "code",
        "colab": {}
      },
      "source": [
        "bird_reshape = bird.reshape(bird.shape[0], -1)\n",
        "bird_reshape.shape"
      ],
      "execution_count": 0,
      "outputs": []
    },
    {
      "cell_type": "code",
      "metadata": {
        "id": "73LspHvIkpCF",
        "colab_type": "code",
        "colab": {}
      },
      "source": [
        "bird_resized = skimage.transform.resize(bird, (500, 500))\n",
        "bird_resized.shape"
      ],
      "execution_count": 0,
      "outputs": []
    },
    {
      "cell_type": "code",
      "metadata": {
        "id": "uvAHUNNok3iO",
        "colab_type": "code",
        "colab": {}
      },
      "source": [
        "plt.figure(figsize=(6,6))\n",
        "plt.title(\"Resize Image\")\n",
        "plt.imshow(bird_resized)"
      ],
      "execution_count": 0,
      "outputs": []
    },
    {
      "cell_type": "code",
      "metadata": {
        "id": "yfmBWJI-lIo_",
        "colab_type": "code",
        "colab": {}
      },
      "source": [
        "aspect_ratio_original = bird.shape[1] / float(bird.shape[0])\n",
        "aspect_ratio_resized = bird_resized[1] / float(bird_resized.shape[0])"
      ],
      "execution_count": 0,
      "outputs": []
    },
    {
      "cell_type": "code",
      "metadata": {
        "id": "YABz8NSjljBH",
        "colab_type": "code",
        "colab": {}
      },
      "source": [
        "bird_rescaled = skimage.transform.rescale(bird_resized, (1.0, aspect_ratio_original))\n",
        "bird_rescaled.shape"
      ],
      "execution_count": 0,
      "outputs": []
    },
    {
      "cell_type": "code",
      "metadata": {
        "id": "pNqRdUdEl704",
        "colab_type": "code",
        "colab": {}
      },
      "source": [
        "aspect_ratio_rescaled = bird_rescaled.shape[1] / float(bird_rescaled.shape[0])"
      ],
      "execution_count": 0,
      "outputs": []
    },
    {
      "cell_type": "code",
      "metadata": {
        "id": "IdDfaLl3mUDE",
        "colab_type": "code",
        "colab": {}
      },
      "source": [
        "# original : height, width, (R,B,G) ===> modified: height, width, (BGR)\n",
        "bird_BGR = bird[:, :, (2, 1, 0)]\n",
        "\n",
        "plt.figure(figsize=(6,6))\n",
        "plt.title(\"BGR Image\")\n",
        "plt.imshow(bird_BGR)"
      ],
      "execution_count": 0,
      "outputs": []
    },
    {
      "cell_type": "code",
      "metadata": {
        "id": "i_b8TMKanC5q",
        "colab_type": "code",
        "colab": {}
      },
      "source": [
        "bird_BGR.shape"
      ],
      "execution_count": 0,
      "outputs": []
    },
    {
      "cell_type": "code",
      "metadata": {
        "id": "eTXBXSmJnGN7",
        "colab_type": "code",
        "colab": {}
      },
      "source": [
        "bird_gray = skimage.color.rgb2gray(bird)\n",
        "plt.figure(figsize=(6,6))\n",
        "plt.title(\"Gray Image\")\n",
        "plt.imshow(bird_gray, cmap = 'gray')\n"
      ],
      "execution_count": 0,
      "outputs": []
    },
    {
      "cell_type": "code",
      "metadata": {
        "id": "203ebRO8nhLx",
        "colab_type": "code",
        "colab": {}
      },
      "source": [
        "bird_gray.shape"
      ],
      "execution_count": 0,
      "outputs": []
    },
    {
      "cell_type": "code",
      "metadata": {
        "id": "-Dr7TbdOnmkF",
        "colab_type": "code",
        "colab": {}
      },
      "source": [
        ""
      ],
      "execution_count": 0,
      "outputs": []
    },
    {
      "cell_type": "code",
      "metadata": {
        "id": "q56OYA8VnnRS",
        "colab_type": "code",
        "colab": {}
      },
      "source": [
        "giraffes = skimage.img_as_float(skimage.io.imread('datasets/images/giraffes.jpg')).astype(np.float32\n",
        "                                                                                          \n",
        "plt.figure(figsize=(6,6))\n",
        "plt.title(\"Original Image\")\n",
        "plt.imshow(giraffes))"
      ],
      "execution_count": 0,
      "outputs": []
    },
    {
      "cell_type": "code",
      "metadata": {
        "id": "9ugcupe6n7OX",
        "colab_type": "code",
        "colab": {}
      },
      "source": [
        "giraffes.shape"
      ],
      "execution_count": 0,
      "outputs": []
    },
    {
      "cell_type": "code",
      "metadata": {
        "id": "yG93hv8noAgQ",
        "colab_type": "code",
        "colab": {}
      },
      "source": [
        "def crop(image, cropx, cropy):\n",
        "\n",
        "  y, x, c = image.shape\n",
        "\n",
        "  startx = x//2 - (cropx // 8)\n",
        "  starty = y//3 - (cropy // 4)\n",
        "\n",
        "  stopx = startx + cropx\n",
        "  stopy = starty + 2*cropy\n",
        "\n",
        "  return image[starty:stopy, startx:stopx]"
      ],
      "execution_count": 0,
      "outputs": []
    },
    {
      "cell_type": "code",
      "metadata": {
        "id": "-e3B_Pf-olJq",
        "colab_type": "code",
        "colab": {}
      },
      "source": [
        "giraffes_cropped = crop(giraffes, 256, 256)"
      ],
      "execution_count": 0,
      "outputs": []
    },
    {
      "cell_type": "code",
      "metadata": {
        "id": "mTOnsMDjo2cq",
        "colab_type": "code",
        "colab": {}
      },
      "source": [
        "plt.figure(figsize=(6,6))\n",
        "plt.title(\"Cropped Image\")\n",
        "plt.imshow(giraffes_cropped)"
      ],
      "execution_count": 0,
      "outputs": []
    },
    {
      "cell_type": "code",
      "metadata": {
        "id": "o_-CJpwEpAnd",
        "colab_type": "code",
        "colab": {}
      },
      "source": [
        "#noisy image\n",
        "from skimage.util import random_noise"
      ],
      "execution_count": 0,
      "outputs": []
    },
    {
      "cell_type": "code",
      "metadata": {
        "id": "MX1a_7vHpGr4",
        "colab_type": "code",
        "colab": {}
      },
      "source": [
        "sigma = 0.155\n",
        "noisy_giraffes = random_noise(giraffes, var=sigma**2)"
      ],
      "execution_count": 0,
      "outputs": []
    },
    {
      "cell_type": "code",
      "metadata": {
        "id": "0KgcxH41pUdo",
        "colab_type": "code",
        "colab": {}
      },
      "source": [
        "plt.figure(figsize=(6,6))\n",
        "plt.title(\"Image with added noise\")\n",
        "plt.imshow(noisy_giraffes)"
      ],
      "execution_count": 0,
      "outputs": []
    },
    {
      "cell_type": "code",
      "metadata": {
        "id": "zekJSsQnpdpn",
        "colab_type": "code",
        "colab": {}
      },
      "source": [
        "from skimage.restoration import denoise_tv_chambolle, denoise_bilateral, denoise_wavelet, estimate_sigma"
      ],
      "execution_count": 0,
      "outputs": []
    },
    {
      "cell_type": "code",
      "metadata": {
        "id": "BG3cBRf4ps5C",
        "colab_type": "code",
        "colab": {}
      },
      "source": [
        "sigma_est = estimage_sigma(noisy_giraffes,\n",
        "                           multichannel=True,\n",
        "                           average_sigmas=True)"
      ],
      "execution_count": 0,
      "outputs": []
    },
    {
      "cell_type": "code",
      "metadata": {
        "id": "Ax4Y4wHrp2hd",
        "colab_type": "code",
        "colab": {}
      },
      "source": [
        "sigma_est"
      ],
      "execution_count": 0,
      "outputs": []
    },
    {
      "cell_type": "code",
      "metadata": {
        "id": "cD1gJeZhp5VZ",
        "colab_type": "code",
        "colab": {}
      },
      "source": [
        "plt.imshow(denoise_tv_chambolle(noisy_giraffes,\n",
        "                                weight=0.1,\n",
        "                                multichannel=True))"
      ],
      "execution_count": 0,
      "outputs": []
    },
    {
      "cell_type": "code",
      "metadata": {
        "id": "c3ZI-MtPqJa5",
        "colab_type": "code",
        "colab": {}
      },
      "source": [
        "plt.imshow(denoise_bilateral(noisy_giraffes,\n",
        "                             sigma_color=0.05,\n",
        "                             sigma_spatial=15,\n",
        "                             multichannel=True))"
      ],
      "execution_count": 0,
      "outputs": []
    },
    {
      "cell_type": "code",
      "metadata": {
        "id": "nCK-Mcu7qaUl",
        "colab_type": "code",
        "colab": {}
      },
      "source": [
        "plt.imshow(denoise_wavelet(noisy_giraffes, multichannel=True))"
      ],
      "execution_count": 0,
      "outputs": []
    },
    {
      "cell_type": "code",
      "metadata": {
        "id": "YaCZXiEjqkCI",
        "colab_type": "code",
        "colab": {}
      },
      "source": [
        "monkeys = skimage.img_as_float(skimage.io.imread('datasets/images/monkeys.jpg')).astype(np.float32)\n",
        "\n",
        "plt.figure(figsize=(6,6))\n",
        "plt.title(\"Original Image\")\n",
        "plt.imshow(monkeys)"
      ],
      "execution_count": 0,
      "outputs": []
    },
    {
      "cell_type": "code",
      "metadata": {
        "id": "41gT1p9Eq01V",
        "colab_type": "code",
        "colab": {}
      },
      "source": [
        "monkeys_flip = np.fliplr(monkeys)\n",
        "\n",
        "plt.figure(figsize=(6,6))\n",
        "plt.title(\"Horizontal Flip\")\n",
        "plt.imshow(monkeys_flip)"
      ],
      "execution_count": 0,
      "outputs": []
    },
    {
      "cell_type": "code",
      "metadata": {
        "id": "4pv3SBZDrKyY",
        "colab_type": "code",
        "colab": {}
      },
      "source": [
        "mirror = skimage.img_as_float(skimage.io.imread('datasets/images/book-mirrored.jpg')).astype(np.float32)\n",
        "\n",
        "plt.figure(figsize=(6,6))\n",
        "plt.title(\"Original Flip\")\n",
        "plt.imshow(mirror)"
      ],
      "execution_count": 0,
      "outputs": []
    },
    {
      "cell_type": "code",
      "metadata": {
        "id": "2-q96QzbrcSy",
        "colab_type": "code",
        "colab": {}
      },
      "source": [
        "mirror_flip = np.fliplr(mirror)\n",
        "\n",
        "plt.figure(figsize=(6,6))\n",
        "plt.title(\"Horizontal Flip\")\n",
        "plt.imshow(mirror_flip)"
      ],
      "execution_count": 0,
      "outputs": []
    }
  ]
}