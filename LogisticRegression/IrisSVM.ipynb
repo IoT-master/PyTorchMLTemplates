{
 "cells": [
  {
   "cell_type": "code",
   "execution_count": 56,
   "metadata": {},
   "outputs": [],
   "source": [
    "import torch\n",
    "import pandas as pd\n",
    "iris_main = pd.read_csv('https://raw.githubusercontent.com/pandas-dev/pandas/master/pandas/tests/data/iris.csv')"
   ]
  },
  {
   "cell_type": "code",
   "execution_count": 63,
   "metadata": {},
   "outputs": [
    {
     "data": {
      "text/plain": [
       "SepalLength    float64\n",
       "SepalWidth     float64\n",
       "PetalLength    float64\n",
       "PetalWidth     float64\n",
       "Name            object\n",
       "dtype: object"
      ]
     },
     "execution_count": 63,
     "metadata": {},
     "output_type": "execute_result"
    }
   ],
   "source": [
    "iris = iris_main.copy()\n",
    "iris.dtypes"
   ]
  },
  {
   "cell_type": "code",
   "execution_count": 59,
   "metadata": {},
   "outputs": [
    {
     "data": {
      "text/plain": [
       "(5.843333333333335, 0.8280661279778629)"
      ]
     },
     "execution_count": 59,
     "metadata": {},
     "output_type": "execute_result"
    }
   ],
   "source": [
    "from sklearn import preprocessing\n",
    "iris['SepalLength'].mean(), iris['SepalLength'].std()"
   ]
  },
  {
   "cell_type": "code",
   "execution_count": 60,
   "metadata": {},
   "outputs": [],
   "source": [
    "def mean_std_table(dataframe):\n",
    "    mean_std_dict = {}\n",
    "    for each_column, each_dtype in zip(iris.columns, iris.dtypes):\n",
    "        if each_dtype == 'float64':\n",
    "            column_mean = iris[each_column].mean()\n",
    "            column_std = iris[each_column].std()\n",
    "            mean_std_dict[each_column] = column_mean, column_std\n",
    "            dataframe[each_column] = (dataframe[each_column]- column_mean)/(column_std**2)\n",
    "    return mean_std_dict"
   ]
  },
  {
   "cell_type": "code",
   "execution_count": 65,
   "metadata": {},
   "outputs": [
    {
     "data": {
      "text/plain": [
       "{'SepalLength': (5.843333333333335, 0.8280661279778629),\n",
       " 'SepalWidth': (3.0540000000000007, 0.4335943113621737),\n",
       " 'PetalLength': (3.7586666666666693, 1.7644204199522617),\n",
       " 'PetalWidth': (1.1986666666666672, 0.7631607417008414)}"
      ]
     },
     "execution_count": 65,
     "metadata": {},
     "output_type": "execute_result"
    }
   ],
   "source": [
    "mean_std_table(iris)"
   ]
  },
  {
   "cell_type": "code",
   "execution_count": 66,
   "metadata": {},
   "outputs": [
    {
     "data": {
      "text/html": [
       "<div>\n",
       "<style scoped>\n",
       "    .dataframe tbody tr th:only-of-type {\n",
       "        vertical-align: middle;\n",
       "    }\n",
       "\n",
       "    .dataframe tbody tr th {\n",
       "        vertical-align: top;\n",
       "    }\n",
       "\n",
       "    .dataframe thead th {\n",
       "        text-align: right;\n",
       "    }\n",
       "</style>\n",
       "<table border=\"1\" class=\"dataframe\">\n",
       "  <thead>\n",
       "    <tr style=\"text-align: right;\">\n",
       "      <th></th>\n",
       "      <th>SepalLength</th>\n",
       "      <th>SepalWidth</th>\n",
       "      <th>PetalLength</th>\n",
       "      <th>PetalWidth</th>\n",
       "      <th>Name</th>\n",
       "    </tr>\n",
       "  </thead>\n",
       "  <tbody>\n",
       "    <tr>\n",
       "      <th>0</th>\n",
       "      <td>-1.084061</td>\n",
       "      <td>2.372290</td>\n",
       "      <td>-0.757639</td>\n",
       "      <td>-1.714701</td>\n",
       "      <td>Iris-setosa</td>\n",
       "    </tr>\n",
       "    <tr>\n",
       "      <th>1</th>\n",
       "      <td>-1.375736</td>\n",
       "      <td>-0.287228</td>\n",
       "      <td>-0.757639</td>\n",
       "      <td>-1.714701</td>\n",
       "      <td>Iris-setosa</td>\n",
       "    </tr>\n",
       "    <tr>\n",
       "      <th>2</th>\n",
       "      <td>-1.667412</td>\n",
       "      <td>0.776579</td>\n",
       "      <td>-0.789761</td>\n",
       "      <td>-1.714701</td>\n",
       "      <td>Iris-setosa</td>\n",
       "    </tr>\n",
       "    <tr>\n",
       "      <th>3</th>\n",
       "      <td>-1.813249</td>\n",
       "      <td>0.244676</td>\n",
       "      <td>-0.725518</td>\n",
       "      <td>-1.714701</td>\n",
       "      <td>Iris-setosa</td>\n",
       "    </tr>\n",
       "    <tr>\n",
       "      <th>4</th>\n",
       "      <td>-1.229898</td>\n",
       "      <td>2.904193</td>\n",
       "      <td>-0.757639</td>\n",
       "      <td>-1.714701</td>\n",
       "      <td>Iris-setosa</td>\n",
       "    </tr>\n",
       "    <tr>\n",
       "      <th>...</th>\n",
       "      <td>...</td>\n",
       "      <td>...</td>\n",
       "      <td>...</td>\n",
       "      <td>...</td>\n",
       "      <td>...</td>\n",
       "    </tr>\n",
       "    <tr>\n",
       "      <th>145</th>\n",
       "      <td>1.249343</td>\n",
       "      <td>-0.287228</td>\n",
       "      <td>0.462978</td>\n",
       "      <td>1.890979</td>\n",
       "      <td>Iris-virginica</td>\n",
       "    </tr>\n",
       "    <tr>\n",
       "      <th>146</th>\n",
       "      <td>0.665992</td>\n",
       "      <td>-2.946745</td>\n",
       "      <td>0.398735</td>\n",
       "      <td>1.204183</td>\n",
       "      <td>Iris-virginica</td>\n",
       "    </tr>\n",
       "    <tr>\n",
       "      <th>147</th>\n",
       "      <td>0.957668</td>\n",
       "      <td>-0.287228</td>\n",
       "      <td>0.462978</td>\n",
       "      <td>1.375882</td>\n",
       "      <td>Iris-virginica</td>\n",
       "    </tr>\n",
       "    <tr>\n",
       "      <th>148</th>\n",
       "      <td>0.520155</td>\n",
       "      <td>1.840386</td>\n",
       "      <td>0.527221</td>\n",
       "      <td>1.890979</td>\n",
       "      <td>Iris-virginica</td>\n",
       "    </tr>\n",
       "    <tr>\n",
       "      <th>149</th>\n",
       "      <td>0.082641</td>\n",
       "      <td>-0.287228</td>\n",
       "      <td>0.430856</td>\n",
       "      <td>1.032484</td>\n",
       "      <td>Iris-virginica</td>\n",
       "    </tr>\n",
       "  </tbody>\n",
       "</table>\n",
       "<p>150 rows × 5 columns</p>\n",
       "</div>"
      ],
      "text/plain": [
       "     SepalLength  SepalWidth  PetalLength  PetalWidth            Name\n",
       "0      -1.084061    2.372290    -0.757639   -1.714701     Iris-setosa\n",
       "1      -1.375736   -0.287228    -0.757639   -1.714701     Iris-setosa\n",
       "2      -1.667412    0.776579    -0.789761   -1.714701     Iris-setosa\n",
       "3      -1.813249    0.244676    -0.725518   -1.714701     Iris-setosa\n",
       "4      -1.229898    2.904193    -0.757639   -1.714701     Iris-setosa\n",
       "..           ...         ...          ...         ...             ...\n",
       "145     1.249343   -0.287228     0.462978    1.890979  Iris-virginica\n",
       "146     0.665992   -2.946745     0.398735    1.204183  Iris-virginica\n",
       "147     0.957668   -0.287228     0.462978    1.375882  Iris-virginica\n",
       "148     0.520155    1.840386     0.527221    1.890979  Iris-virginica\n",
       "149     0.082641   -0.287228     0.430856    1.032484  Iris-virginica\n",
       "\n",
       "[150 rows x 5 columns]"
      ]
     },
     "execution_count": 66,
     "metadata": {},
     "output_type": "execute_result"
    }
   ],
   "source": [
    "iris"
   ]
  },
  {
   "cell_type": "code",
   "execution_count": 28,
   "metadata": {},
   "outputs": [],
   "source": [
    "from torch.utils import data\n",
    "\n",
    "class DataSpliter(data.Dataset):\n",
    "    'Characterizes a dataset for PyTorch'\n",
    "    def __init__(self, dataframe, features, labels):\n",
    "        'Initialization'\n",
    "        super(DataSpliter, self).__init__()\n",
    "        self.dataframe = dataframe\n",
    "        self.labels = labels\n",
    "        self.list_IDs = features\n",
    "\n",
    "    def __len__(self):\n",
    "        'Denotes the total number of samples'\n",
    "        return self.dataframe.shape[0]\n",
    "\n",
    "    def __getitem__(self, index):\n",
    "        'Generates one sample of data'\n",
    "        # Load data and get label\n",
    "        X = torch.FloatTensor(self.dataframe[self.list_IDs].to_numpy())[index]\n",
    "        y = (torch.LongTensor(self.dataframe[self.labels].to_numpy())).squeeze(1)[index]\n",
    "\n",
    "        return X, y"
   ]
  },
  {
   "cell_type": "code",
   "execution_count": 92,
   "metadata": {},
   "outputs": [],
   "source": [
    "def train_test_split(dataframe, shuffle=False, test_decimal=.2):\n",
    "    assert test_decimal < 1\n",
    "    assert test_decimal > 0\n",
    "    if shuffle:\n",
    "        train_df = dataframe.sample(frac=(1-test_decimal))\n",
    "    else:\n",
    "        tt_boarder = int(dataframe.shape[0]*(1-test_decimal))\n",
    "        train_df = dataframe[:tt_boarder]\n",
    "    test_df = dataframe.drop(train_df.index)\n",
    "    return train_df, test_df"
   ]
  },
  {
   "cell_type": "code",
   "execution_count": 96,
   "metadata": {},
   "outputs": [
    {
     "data": {
      "text/plain": [
       "array(['Iris-setosa', 'Iris-versicolor', 'Iris-virginica'], dtype=object)"
      ]
     },
     "execution_count": 96,
     "metadata": {},
     "output_type": "execute_result"
    }
   ],
   "source": [
    "iris['Name'].unique()"
   ]
  },
  {
   "cell_type": "code",
   "execution_count": 102,
   "metadata": {},
   "outputs": [
    {
     "data": {
      "text/plain": [
       "(50, 5)"
      ]
     },
     "execution_count": 102,
     "metadata": {},
     "output_type": "execute_result"
    }
   ],
   "source": [
    "iris[iris['Name'].unique()[0] == iris['Name']].shape"
   ]
  },
  {
   "cell_type": "code",
   "execution_count": 106,
   "metadata": {},
   "outputs": [
    {
     "data": {
      "text/plain": [
       "0"
      ]
     },
     "execution_count": 106,
     "metadata": {},
     "output_type": "execute_result"
    }
   ],
   "source": [
    "type_count = []\n",
    "for each_type in iris['Name'].unique():\n",
    "    type_count.append(iris[each_type == iris['Name']].shape)\n",
    "min_sample = type_count.index(min(type_count))\n",
    "min_sample"
   ]
  },
  {
   "cell_type": "code",
   "execution_count": 376,
   "metadata": {},
   "outputs": [],
   "source": [
    "def train_test_split_even(dataframe, label_name, shuffle=True, test_decimal=0.2, even_num_labels=True):\n",
    "    assert test_decimal < 1\n",
    "    assert test_decimal > 0\n",
    "    tt_boarder = int(dataframe.shape[0]*(1-test_decimal))\n",
    "    if even_num_labels:\n",
    "        type_count = []\n",
    "        for each_type in dataframe[label_name].unique():\n",
    "             type_count.append(dataframe[each_type == dataframe[label_name]].shape[0])\n",
    "        min_sample = min(type_count)\n",
    "        print(min_sample)\n",
    "        \n",
    "        train_df = pd.DataFrame(columns=dataframe.columns)\n",
    "        print(tt_boarder, min_sample*len(type_count)*(1-test_decimal))\n",
    "        if tt_boarder >= min_sample*len(type_count)*(1-test_decimal):\n",
    "            if shuffle:\n",
    "                for each_type in dataframe[label_name].unique():\n",
    "                    train_df = train_df.append(dataframe[each_type == dataframe[label_name]].sample(frac=(1-test_decimal)))     \n",
    "            else:\n",
    "                for each_type in dataframe[label_name].unique():\n",
    "                    train_df = train_df.append(dataframe[each_type == dataframe[label_name]][:tt_boarder//len(type_count)])\n",
    "        else:\n",
    "            if shuffle:\n",
    "                for each_type in dataframe[label_name].unique():\n",
    "                    train_df = train_df.append(dataframe[each_type == dataframe[label_name]].sample(frac=(1-test_decimal)))\n",
    "            else:\n",
    "                for each_type in dataframe[label_name].unique():\n",
    "                    train_df = train_df.append(dataframe[each_type == dataframe[label_name]][:tt_boarder//len(type_count)])\n",
    "        test_df = dataframe.drop(train_df.index)\n",
    "    return train_df, test_df"
   ]
  },
  {
   "cell_type": "code",
   "execution_count": 379,
   "metadata": {},
   "outputs": [
    {
     "name": "stdout",
     "output_type": "stream",
     "text": [
      "50\n",
      "120 120.0\n"
     ]
    }
   ],
   "source": [
    "x1, y1 = train_test_split_even(iris, 'Name',shuffle=True, test_decimal=0.2)"
   ]
  },
  {
   "cell_type": "code",
   "execution_count": 380,
   "metadata": {},
   "outputs": [
    {
     "data": {
      "text/html": [
       "<div>\n",
       "<style scoped>\n",
       "    .dataframe tbody tr th:only-of-type {\n",
       "        vertical-align: middle;\n",
       "    }\n",
       "\n",
       "    .dataframe tbody tr th {\n",
       "        vertical-align: top;\n",
       "    }\n",
       "\n",
       "    .dataframe thead th {\n",
       "        text-align: right;\n",
       "    }\n",
       "</style>\n",
       "<table border=\"1\" class=\"dataframe\">\n",
       "  <thead>\n",
       "    <tr style=\"text-align: right;\">\n",
       "      <th></th>\n",
       "      <th>SepalLength</th>\n",
       "      <th>SepalWidth</th>\n",
       "      <th>PetalLength</th>\n",
       "      <th>PetalWidth</th>\n",
       "      <th>Name</th>\n",
       "    </tr>\n",
       "  </thead>\n",
       "  <tbody>\n",
       "    <tr>\n",
       "      <th>26</th>\n",
       "      <td>-1.229898</td>\n",
       "      <td>1.840386</td>\n",
       "      <td>-0.693396</td>\n",
       "      <td>-1.371303</td>\n",
       "      <td>Iris-setosa</td>\n",
       "    </tr>\n",
       "    <tr>\n",
       "      <th>40</th>\n",
       "      <td>-1.229898</td>\n",
       "      <td>2.372290</td>\n",
       "      <td>-0.789761</td>\n",
       "      <td>-1.543002</td>\n",
       "      <td>Iris-setosa</td>\n",
       "    </tr>\n",
       "    <tr>\n",
       "      <th>19</th>\n",
       "      <td>-1.084061</td>\n",
       "      <td>3.968000</td>\n",
       "      <td>-0.725518</td>\n",
       "      <td>-1.543002</td>\n",
       "      <td>Iris-setosa</td>\n",
       "    </tr>\n",
       "    <tr>\n",
       "      <th>16</th>\n",
       "      <td>-0.646547</td>\n",
       "      <td>4.499904</td>\n",
       "      <td>-0.789761</td>\n",
       "      <td>-1.371303</td>\n",
       "      <td>Iris-setosa</td>\n",
       "    </tr>\n",
       "    <tr>\n",
       "      <th>8</th>\n",
       "      <td>-2.104925</td>\n",
       "      <td>-0.819131</td>\n",
       "      <td>-0.757639</td>\n",
       "      <td>-1.714701</td>\n",
       "      <td>Iris-setosa</td>\n",
       "    </tr>\n",
       "    <tr>\n",
       "      <th>...</th>\n",
       "      <td>...</td>\n",
       "      <td>...</td>\n",
       "      <td>...</td>\n",
       "      <td>...</td>\n",
       "      <td>...</td>\n",
       "    </tr>\n",
       "    <tr>\n",
       "      <th>133</th>\n",
       "      <td>0.665992</td>\n",
       "      <td>-1.351035</td>\n",
       "      <td>0.430856</td>\n",
       "      <td>0.517387</td>\n",
       "      <td>Iris-virginica</td>\n",
       "    </tr>\n",
       "    <tr>\n",
       "      <th>148</th>\n",
       "      <td>0.520155</td>\n",
       "      <td>1.840386</td>\n",
       "      <td>0.527221</td>\n",
       "      <td>1.890979</td>\n",
       "      <td>Iris-virginica</td>\n",
       "    </tr>\n",
       "    <tr>\n",
       "      <th>141</th>\n",
       "      <td>1.541019</td>\n",
       "      <td>0.244676</td>\n",
       "      <td>0.430856</td>\n",
       "      <td>1.890979</td>\n",
       "      <td>Iris-virginica</td>\n",
       "    </tr>\n",
       "    <tr>\n",
       "      <th>107</th>\n",
       "      <td>2.124370</td>\n",
       "      <td>-0.819131</td>\n",
       "      <td>0.816314</td>\n",
       "      <td>1.032484</td>\n",
       "      <td>Iris-virginica</td>\n",
       "    </tr>\n",
       "    <tr>\n",
       "      <th>138</th>\n",
       "      <td>0.228479</td>\n",
       "      <td>-0.287228</td>\n",
       "      <td>0.334492</td>\n",
       "      <td>1.032484</td>\n",
       "      <td>Iris-virginica</td>\n",
       "    </tr>\n",
       "  </tbody>\n",
       "</table>\n",
       "<p>120 rows × 5 columns</p>\n",
       "</div>"
      ],
      "text/plain": [
       "     SepalLength  SepalWidth  PetalLength  PetalWidth            Name\n",
       "26     -1.229898    1.840386    -0.693396   -1.371303     Iris-setosa\n",
       "40     -1.229898    2.372290    -0.789761   -1.543002     Iris-setosa\n",
       "19     -1.084061    3.968000    -0.725518   -1.543002     Iris-setosa\n",
       "16     -0.646547    4.499904    -0.789761   -1.371303     Iris-setosa\n",
       "8      -2.104925   -0.819131    -0.757639   -1.714701     Iris-setosa\n",
       "..           ...         ...          ...         ...             ...\n",
       "133     0.665992   -1.351035     0.430856    0.517387  Iris-virginica\n",
       "148     0.520155    1.840386     0.527221    1.890979  Iris-virginica\n",
       "141     1.541019    0.244676     0.430856    1.890979  Iris-virginica\n",
       "107     2.124370   -0.819131     0.816314    1.032484  Iris-virginica\n",
       "138     0.228479   -0.287228     0.334492    1.032484  Iris-virginica\n",
       "\n",
       "[120 rows x 5 columns]"
      ]
     },
     "execution_count": 380,
     "metadata": {},
     "output_type": "execute_result"
    }
   ],
   "source": [
    "x1"
   ]
  },
  {
   "cell_type": "code",
   "execution_count": 381,
   "metadata": {},
   "outputs": [
    {
     "name": "stdout",
     "output_type": "stream",
     "text": [
      "50\n",
      "14 14.999999999999996\n"
     ]
    }
   ],
   "source": [
    "x2, y2 = train_test_split_even(iris, 'Name',shuffle=False, test_decimal=.9)"
   ]
  },
  {
   "cell_type": "code",
   "execution_count": 382,
   "metadata": {},
   "outputs": [
    {
     "data": {
      "text/html": [
       "<div>\n",
       "<style scoped>\n",
       "    .dataframe tbody tr th:only-of-type {\n",
       "        vertical-align: middle;\n",
       "    }\n",
       "\n",
       "    .dataframe tbody tr th {\n",
       "        vertical-align: top;\n",
       "    }\n",
       "\n",
       "    .dataframe thead th {\n",
       "        text-align: right;\n",
       "    }\n",
       "</style>\n",
       "<table border=\"1\" class=\"dataframe\">\n",
       "  <thead>\n",
       "    <tr style=\"text-align: right;\">\n",
       "      <th></th>\n",
       "      <th>SepalLength</th>\n",
       "      <th>SepalWidth</th>\n",
       "      <th>PetalLength</th>\n",
       "      <th>PetalWidth</th>\n",
       "      <th>Name</th>\n",
       "    </tr>\n",
       "  </thead>\n",
       "  <tbody>\n",
       "    <tr>\n",
       "      <th>0</th>\n",
       "      <td>-1.084061</td>\n",
       "      <td>2.372290</td>\n",
       "      <td>-0.757639</td>\n",
       "      <td>-1.714701</td>\n",
       "      <td>Iris-setosa</td>\n",
       "    </tr>\n",
       "    <tr>\n",
       "      <th>1</th>\n",
       "      <td>-1.375736</td>\n",
       "      <td>-0.287228</td>\n",
       "      <td>-0.757639</td>\n",
       "      <td>-1.714701</td>\n",
       "      <td>Iris-setosa</td>\n",
       "    </tr>\n",
       "    <tr>\n",
       "      <th>2</th>\n",
       "      <td>-1.667412</td>\n",
       "      <td>0.776579</td>\n",
       "      <td>-0.789761</td>\n",
       "      <td>-1.714701</td>\n",
       "      <td>Iris-setosa</td>\n",
       "    </tr>\n",
       "    <tr>\n",
       "      <th>3</th>\n",
       "      <td>-1.813249</td>\n",
       "      <td>0.244676</td>\n",
       "      <td>-0.725518</td>\n",
       "      <td>-1.714701</td>\n",
       "      <td>Iris-setosa</td>\n",
       "    </tr>\n",
       "    <tr>\n",
       "      <th>50</th>\n",
       "      <td>1.686857</td>\n",
       "      <td>0.776579</td>\n",
       "      <td>0.302370</td>\n",
       "      <td>0.345687</td>\n",
       "      <td>Iris-versicolor</td>\n",
       "    </tr>\n",
       "    <tr>\n",
       "      <th>51</th>\n",
       "      <td>0.811830</td>\n",
       "      <td>0.776579</td>\n",
       "      <td>0.238127</td>\n",
       "      <td>0.517387</td>\n",
       "      <td>Iris-versicolor</td>\n",
       "    </tr>\n",
       "    <tr>\n",
       "      <th>52</th>\n",
       "      <td>1.541019</td>\n",
       "      <td>0.244676</td>\n",
       "      <td>0.366613</td>\n",
       "      <td>0.517387</td>\n",
       "      <td>Iris-versicolor</td>\n",
       "    </tr>\n",
       "    <tr>\n",
       "      <th>53</th>\n",
       "      <td>-0.500710</td>\n",
       "      <td>-4.010552</td>\n",
       "      <td>0.077520</td>\n",
       "      <td>0.173988</td>\n",
       "      <td>Iris-versicolor</td>\n",
       "    </tr>\n",
       "    <tr>\n",
       "      <th>100</th>\n",
       "      <td>0.665992</td>\n",
       "      <td>1.308483</td>\n",
       "      <td>0.719950</td>\n",
       "      <td>2.234377</td>\n",
       "      <td>Iris-virginica</td>\n",
       "    </tr>\n",
       "    <tr>\n",
       "      <th>101</th>\n",
       "      <td>-0.063196</td>\n",
       "      <td>-1.882938</td>\n",
       "      <td>0.430856</td>\n",
       "      <td>1.204183</td>\n",
       "      <td>Iris-virginica</td>\n",
       "    </tr>\n",
       "    <tr>\n",
       "      <th>102</th>\n",
       "      <td>1.832694</td>\n",
       "      <td>-0.287228</td>\n",
       "      <td>0.687828</td>\n",
       "      <td>1.547581</td>\n",
       "      <td>Iris-virginica</td>\n",
       "    </tr>\n",
       "    <tr>\n",
       "      <th>103</th>\n",
       "      <td>0.665992</td>\n",
       "      <td>-0.819131</td>\n",
       "      <td>0.591464</td>\n",
       "      <td>1.032484</td>\n",
       "      <td>Iris-virginica</td>\n",
       "    </tr>\n",
       "  </tbody>\n",
       "</table>\n",
       "</div>"
      ],
      "text/plain": [
       "     SepalLength  SepalWidth  PetalLength  PetalWidth             Name\n",
       "0      -1.084061    2.372290    -0.757639   -1.714701      Iris-setosa\n",
       "1      -1.375736   -0.287228    -0.757639   -1.714701      Iris-setosa\n",
       "2      -1.667412    0.776579    -0.789761   -1.714701      Iris-setosa\n",
       "3      -1.813249    0.244676    -0.725518   -1.714701      Iris-setosa\n",
       "50      1.686857    0.776579     0.302370    0.345687  Iris-versicolor\n",
       "51      0.811830    0.776579     0.238127    0.517387  Iris-versicolor\n",
       "52      1.541019    0.244676     0.366613    0.517387  Iris-versicolor\n",
       "53     -0.500710   -4.010552     0.077520    0.173988  Iris-versicolor\n",
       "100     0.665992    1.308483     0.719950    2.234377   Iris-virginica\n",
       "101    -0.063196   -1.882938     0.430856    1.204183   Iris-virginica\n",
       "102     1.832694   -0.287228     0.687828    1.547581   Iris-virginica\n",
       "103     0.665992   -0.819131     0.591464    1.032484   Iris-virginica"
      ]
     },
     "execution_count": 382,
     "metadata": {},
     "output_type": "execute_result"
    }
   ],
   "source": [
    "x2"
   ]
  },
  {
   "cell_type": "code",
   "execution_count": null,
   "metadata": {},
   "outputs": [],
   "source": []
  },
  {
   "cell_type": "code",
   "execution_count": null,
   "metadata": {},
   "outputs": [],
   "source": []
  }
 ],
 "metadata": {
  "kernelspec": {
   "display_name": "Python 3.6.10 64-bit ('base': conda)",
   "language": "python",
   "name": "python361064bitbaseconda781f63433f6e4e048d2f76097806863c"
  },
  "language_info": {
   "codemirror_mode": {
    "name": "ipython",
    "version": 3
   },
   "file_extension": ".py",
   "mimetype": "text/x-python",
   "name": "python",
   "nbconvert_exporter": "python",
   "pygments_lexer": "ipython3",
   "version": "3.6.10"
  }
 },
 "nbformat": 4,
 "nbformat_minor": 4
}
