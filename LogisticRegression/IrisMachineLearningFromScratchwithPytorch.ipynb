{
 "cells": [
  {
   "cell_type": "code",
   "execution_count": 1,
   "metadata": {},
   "outputs": [],
   "source": [
    "import torch\n",
    "import pandas as pd\n",
    "iris_main = pd.read_csv('https://raw.githubusercontent.com/pandas-dev/pandas/master/pandas/tests/data/iris.csv')"
   ]
  },
  {
   "cell_type": "code",
   "execution_count": 2,
   "metadata": {},
   "outputs": [
    {
     "data": {
      "text/plain": [
       "SepalLength    float64\n",
       "SepalWidth     float64\n",
       "PetalLength    float64\n",
       "PetalWidth     float64\n",
       "Name            object\n",
       "dtype: object"
      ]
     },
     "execution_count": 2,
     "metadata": {},
     "output_type": "execute_result"
    }
   ],
   "source": [
    "iris = iris_main.copy()\n",
    "iris.dtypes"
   ]
  },
  {
   "cell_type": "code",
   "execution_count": 3,
   "metadata": {},
   "outputs": [
    {
     "data": {
      "text/html": [
       "<div>\n",
       "<style scoped>\n",
       "    .dataframe tbody tr th:only-of-type {\n",
       "        vertical-align: middle;\n",
       "    }\n",
       "\n",
       "    .dataframe tbody tr th {\n",
       "        vertical-align: top;\n",
       "    }\n",
       "\n",
       "    .dataframe thead th {\n",
       "        text-align: right;\n",
       "    }\n",
       "</style>\n",
       "<table border=\"1\" class=\"dataframe\">\n",
       "  <thead>\n",
       "    <tr style=\"text-align: right;\">\n",
       "      <th></th>\n",
       "      <th>SepalLength</th>\n",
       "      <th>SepalWidth</th>\n",
       "      <th>PetalLength</th>\n",
       "      <th>PetalWidth</th>\n",
       "      <th>Name</th>\n",
       "    </tr>\n",
       "  </thead>\n",
       "  <tbody>\n",
       "    <tr>\n",
       "      <th>58</th>\n",
       "      <td>6.6</td>\n",
       "      <td>2.9</td>\n",
       "      <td>4.6</td>\n",
       "      <td>1.3</td>\n",
       "      <td>Iris-versicolor</td>\n",
       "    </tr>\n",
       "    <tr>\n",
       "      <th>118</th>\n",
       "      <td>7.7</td>\n",
       "      <td>2.6</td>\n",
       "      <td>6.9</td>\n",
       "      <td>2.3</td>\n",
       "      <td>Iris-virginica</td>\n",
       "    </tr>\n",
       "    <tr>\n",
       "      <th>82</th>\n",
       "      <td>5.8</td>\n",
       "      <td>2.7</td>\n",
       "      <td>3.9</td>\n",
       "      <td>1.2</td>\n",
       "      <td>Iris-versicolor</td>\n",
       "    </tr>\n",
       "    <tr>\n",
       "      <th>10</th>\n",
       "      <td>5.4</td>\n",
       "      <td>3.7</td>\n",
       "      <td>1.5</td>\n",
       "      <td>0.2</td>\n",
       "      <td>Iris-setosa</td>\n",
       "    </tr>\n",
       "    <tr>\n",
       "      <th>73</th>\n",
       "      <td>6.1</td>\n",
       "      <td>2.8</td>\n",
       "      <td>4.7</td>\n",
       "      <td>1.2</td>\n",
       "      <td>Iris-versicolor</td>\n",
       "    </tr>\n",
       "    <tr>\n",
       "      <th>52</th>\n",
       "      <td>6.9</td>\n",
       "      <td>3.1</td>\n",
       "      <td>4.9</td>\n",
       "      <td>1.5</td>\n",
       "      <td>Iris-versicolor</td>\n",
       "    </tr>\n",
       "    <tr>\n",
       "      <th>44</th>\n",
       "      <td>5.1</td>\n",
       "      <td>3.8</td>\n",
       "      <td>1.9</td>\n",
       "      <td>0.4</td>\n",
       "      <td>Iris-setosa</td>\n",
       "    </tr>\n",
       "    <tr>\n",
       "      <th>1</th>\n",
       "      <td>4.9</td>\n",
       "      <td>3.0</td>\n",
       "      <td>1.4</td>\n",
       "      <td>0.2</td>\n",
       "      <td>Iris-setosa</td>\n",
       "    </tr>\n",
       "    <tr>\n",
       "      <th>53</th>\n",
       "      <td>5.5</td>\n",
       "      <td>2.3</td>\n",
       "      <td>4.0</td>\n",
       "      <td>1.3</td>\n",
       "      <td>Iris-versicolor</td>\n",
       "    </tr>\n",
       "    <tr>\n",
       "      <th>147</th>\n",
       "      <td>6.5</td>\n",
       "      <td>3.0</td>\n",
       "      <td>5.2</td>\n",
       "      <td>2.0</td>\n",
       "      <td>Iris-virginica</td>\n",
       "    </tr>\n",
       "  </tbody>\n",
       "</table>\n",
       "</div>"
      ],
      "text/plain": [
       "     SepalLength  SepalWidth  PetalLength  PetalWidth             Name\n",
       "58           6.6         2.9          4.6         1.3  Iris-versicolor\n",
       "118          7.7         2.6          6.9         2.3   Iris-virginica\n",
       "82           5.8         2.7          3.9         1.2  Iris-versicolor\n",
       "10           5.4         3.7          1.5         0.2      Iris-setosa\n",
       "73           6.1         2.8          4.7         1.2  Iris-versicolor\n",
       "52           6.9         3.1          4.9         1.5  Iris-versicolor\n",
       "44           5.1         3.8          1.9         0.4      Iris-setosa\n",
       "1            4.9         3.0          1.4         0.2      Iris-setosa\n",
       "53           5.5         2.3          4.0         1.3  Iris-versicolor\n",
       "147          6.5         3.0          5.2         2.0   Iris-virginica"
      ]
     },
     "execution_count": 3,
     "metadata": {},
     "output_type": "execute_result"
    }
   ],
   "source": [
    "iris.sample(10)"
   ]
  },
  {
   "cell_type": "code",
   "execution_count": 10,
   "metadata": {},
   "outputs": [
    {
     "data": {
      "text/plain": [
       "({'Iris-setosa': 50, 'Iris-virginica': 50, 'Iris-versicolor': 50}, 50)"
      ]
     },
     "execution_count": 10,
     "metadata": {},
     "output_type": "execute_result"
    }
   ],
   "source": [
    "value_count_output = iris['Name'].value_counts()\n",
    "value_count_output.to_dict(), value_count_output.min()"
   ]
  },
  {
   "cell_type": "code",
   "execution_count": 33,
   "metadata": {},
   "outputs": [],
   "source": [
    "my_num = 2\n",
    "a = iris[iris['Name'] == 'Iris-setosa'].sample(my_num)\n",
    "b = iris[iris['Name'] == 'Iris-virginica'].sample(my_num)\n",
    "c = iris[iris['Name'] == 'Iris-versicolor'].sample(my_num)"
   ]
  },
  {
   "cell_type": "code",
   "execution_count": 40,
   "metadata": {},
   "outputs": [
    {
     "data": {
      "text/html": [
       "<div>\n",
       "<style scoped>\n",
       "    .dataframe tbody tr th:only-of-type {\n",
       "        vertical-align: middle;\n",
       "    }\n",
       "\n",
       "    .dataframe tbody tr th {\n",
       "        vertical-align: top;\n",
       "    }\n",
       "\n",
       "    .dataframe thead th {\n",
       "        text-align: right;\n",
       "    }\n",
       "</style>\n",
       "<table border=\"1\" class=\"dataframe\">\n",
       "  <thead>\n",
       "    <tr style=\"text-align: right;\">\n",
       "      <th></th>\n",
       "      <th>SepalLength</th>\n",
       "      <th>SepalWidth</th>\n",
       "      <th>PetalLength</th>\n",
       "      <th>PetalWidth</th>\n",
       "      <th>Name</th>\n",
       "    </tr>\n",
       "  </thead>\n",
       "  <tbody>\n",
       "    <tr>\n",
       "      <th>39</th>\n",
       "      <td>5.1</td>\n",
       "      <td>3.4</td>\n",
       "      <td>1.5</td>\n",
       "      <td>0.2</td>\n",
       "      <td>Iris-setosa</td>\n",
       "    </tr>\n",
       "    <tr>\n",
       "      <th>29</th>\n",
       "      <td>4.7</td>\n",
       "      <td>3.2</td>\n",
       "      <td>1.6</td>\n",
       "      <td>0.2</td>\n",
       "      <td>Iris-setosa</td>\n",
       "    </tr>\n",
       "    <tr>\n",
       "      <th>144</th>\n",
       "      <td>6.7</td>\n",
       "      <td>3.3</td>\n",
       "      <td>5.7</td>\n",
       "      <td>2.5</td>\n",
       "      <td>Iris-virginica</td>\n",
       "    </tr>\n",
       "    <tr>\n",
       "      <th>137</th>\n",
       "      <td>6.4</td>\n",
       "      <td>3.1</td>\n",
       "      <td>5.5</td>\n",
       "      <td>1.8</td>\n",
       "      <td>Iris-virginica</td>\n",
       "    </tr>\n",
       "    <tr>\n",
       "      <th>94</th>\n",
       "      <td>5.6</td>\n",
       "      <td>2.7</td>\n",
       "      <td>4.2</td>\n",
       "      <td>1.3</td>\n",
       "      <td>Iris-versicolor</td>\n",
       "    </tr>\n",
       "    <tr>\n",
       "      <th>69</th>\n",
       "      <td>5.6</td>\n",
       "      <td>2.5</td>\n",
       "      <td>3.9</td>\n",
       "      <td>1.1</td>\n",
       "      <td>Iris-versicolor</td>\n",
       "    </tr>\n",
       "  </tbody>\n",
       "</table>\n",
       "</div>"
      ],
      "text/plain": [
       "     SepalLength  SepalWidth  PetalLength  PetalWidth             Name\n",
       "39           5.1         3.4          1.5         0.2      Iris-setosa\n",
       "29           4.7         3.2          1.6         0.2      Iris-setosa\n",
       "144          6.7         3.3          5.7         2.5   Iris-virginica\n",
       "137          6.4         3.1          5.5         1.8   Iris-virginica\n",
       "94           5.6         2.7          4.2         1.3  Iris-versicolor\n",
       "69           5.6         2.5          3.9         1.1  Iris-versicolor"
      ]
     },
     "execution_count": 40,
     "metadata": {},
     "output_type": "execute_result"
    }
   ],
   "source": [
    "iris_train_df = pd.concat([a,b,c]).copy()\n",
    "# iris_train_df = pd.concat([a,b,c]).sample(frac=1).copy()\n",
    "iris_train_df"
   ]
  },
  {
   "cell_type": "code",
   "execution_count": 42,
   "metadata": {},
   "outputs": [
    {
     "data": {
      "text/html": [
       "<div>\n",
       "<style scoped>\n",
       "    .dataframe tbody tr th:only-of-type {\n",
       "        vertical-align: middle;\n",
       "    }\n",
       "\n",
       "    .dataframe tbody tr th {\n",
       "        vertical-align: top;\n",
       "    }\n",
       "\n",
       "    .dataframe thead th {\n",
       "        text-align: right;\n",
       "    }\n",
       "</style>\n",
       "<table border=\"1\" class=\"dataframe\">\n",
       "  <thead>\n",
       "    <tr style=\"text-align: right;\">\n",
       "      <th></th>\n",
       "      <th>SepalLength</th>\n",
       "      <th>SepalWidth</th>\n",
       "      <th>PetalLength</th>\n",
       "      <th>PetalWidth</th>\n",
       "      <th>Name</th>\n",
       "    </tr>\n",
       "  </thead>\n",
       "  <tbody>\n",
       "    <tr>\n",
       "      <th>0</th>\n",
       "      <td>5.1</td>\n",
       "      <td>3.5</td>\n",
       "      <td>1.4</td>\n",
       "      <td>0.2</td>\n",
       "      <td>Iris-setosa</td>\n",
       "    </tr>\n",
       "    <tr>\n",
       "      <th>1</th>\n",
       "      <td>4.9</td>\n",
       "      <td>3.0</td>\n",
       "      <td>1.4</td>\n",
       "      <td>0.2</td>\n",
       "      <td>Iris-setosa</td>\n",
       "    </tr>\n",
       "    <tr>\n",
       "      <th>2</th>\n",
       "      <td>4.7</td>\n",
       "      <td>3.2</td>\n",
       "      <td>1.3</td>\n",
       "      <td>0.2</td>\n",
       "      <td>Iris-setosa</td>\n",
       "    </tr>\n",
       "    <tr>\n",
       "      <th>3</th>\n",
       "      <td>4.6</td>\n",
       "      <td>3.1</td>\n",
       "      <td>1.5</td>\n",
       "      <td>0.2</td>\n",
       "      <td>Iris-setosa</td>\n",
       "    </tr>\n",
       "    <tr>\n",
       "      <th>4</th>\n",
       "      <td>5.0</td>\n",
       "      <td>3.6</td>\n",
       "      <td>1.4</td>\n",
       "      <td>0.2</td>\n",
       "      <td>Iris-setosa</td>\n",
       "    </tr>\n",
       "    <tr>\n",
       "      <th>...</th>\n",
       "      <td>...</td>\n",
       "      <td>...</td>\n",
       "      <td>...</td>\n",
       "      <td>...</td>\n",
       "      <td>...</td>\n",
       "    </tr>\n",
       "    <tr>\n",
       "      <th>145</th>\n",
       "      <td>6.7</td>\n",
       "      <td>3.0</td>\n",
       "      <td>5.2</td>\n",
       "      <td>2.3</td>\n",
       "      <td>Iris-virginica</td>\n",
       "    </tr>\n",
       "    <tr>\n",
       "      <th>146</th>\n",
       "      <td>6.3</td>\n",
       "      <td>2.5</td>\n",
       "      <td>5.0</td>\n",
       "      <td>1.9</td>\n",
       "      <td>Iris-virginica</td>\n",
       "    </tr>\n",
       "    <tr>\n",
       "      <th>147</th>\n",
       "      <td>6.5</td>\n",
       "      <td>3.0</td>\n",
       "      <td>5.2</td>\n",
       "      <td>2.0</td>\n",
       "      <td>Iris-virginica</td>\n",
       "    </tr>\n",
       "    <tr>\n",
       "      <th>148</th>\n",
       "      <td>6.2</td>\n",
       "      <td>3.4</td>\n",
       "      <td>5.4</td>\n",
       "      <td>2.3</td>\n",
       "      <td>Iris-virginica</td>\n",
       "    </tr>\n",
       "    <tr>\n",
       "      <th>149</th>\n",
       "      <td>5.9</td>\n",
       "      <td>3.0</td>\n",
       "      <td>5.1</td>\n",
       "      <td>1.8</td>\n",
       "      <td>Iris-virginica</td>\n",
       "    </tr>\n",
       "  </tbody>\n",
       "</table>\n",
       "<p>144 rows × 5 columns</p>\n",
       "</div>"
      ],
      "text/plain": [
       "     SepalLength  SepalWidth  PetalLength  PetalWidth            Name\n",
       "0            5.1         3.5          1.4         0.2     Iris-setosa\n",
       "1            4.9         3.0          1.4         0.2     Iris-setosa\n",
       "2            4.7         3.2          1.3         0.2     Iris-setosa\n",
       "3            4.6         3.1          1.5         0.2     Iris-setosa\n",
       "4            5.0         3.6          1.4         0.2     Iris-setosa\n",
       "..           ...         ...          ...         ...             ...\n",
       "145          6.7         3.0          5.2         2.3  Iris-virginica\n",
       "146          6.3         2.5          5.0         1.9  Iris-virginica\n",
       "147          6.5         3.0          5.2         2.0  Iris-virginica\n",
       "148          6.2         3.4          5.4         2.3  Iris-virginica\n",
       "149          5.9         3.0          5.1         1.8  Iris-virginica\n",
       "\n",
       "[144 rows x 5 columns]"
      ]
     },
     "execution_count": 42,
     "metadata": {},
     "output_type": "execute_result"
    }
   ],
   "source": [
    "iris_test_df = iris.drop(iris_train_df.index).copy()\n",
    "iris_test_df"
   ]
  },
  {
   "cell_type": "code",
   "execution_count": 13,
   "metadata": {},
   "outputs": [],
   "source": [
    "def mean_std_table(dataframe):\n",
    "    mean_std_dict = {}\n",
    "    for each_column, each_dtype in zip(iris.columns, iris.dtypes):\n",
    "        if each_dtype == 'float64':\n",
    "            column_mean = iris[each_column].mean()\n",
    "            column_std = iris[each_column].std()\n",
    "            mean_std_dict[each_column] = column_mean, column_std\n",
    "            dataframe[each_column] = (dataframe[each_column]- column_mean)/(column_std**2)\n",
    "    return mean_std_dict"
   ]
  },
  {
   "cell_type": "code",
   "execution_count": 14,
   "metadata": {},
   "outputs": [
    {
     "data": {
      "text/plain": [
       "{'SepalLength': (5.843333333333335, 0.8280661279778629),\n",
       " 'SepalWidth': (3.0540000000000007, 0.4335943113621737),\n",
       " 'PetalLength': (3.7586666666666693, 1.7644204199522617),\n",
       " 'PetalWidth': (1.1986666666666672, 0.7631607417008414)}"
      ]
     },
     "execution_count": 14,
     "metadata": {},
     "output_type": "execute_result"
    }
   ],
   "source": [
    "my_stats_dict = mean_std_table(iris)\n",
    "my_stats_dict"
   ]
  },
  {
   "cell_type": "code",
   "execution_count": 15,
   "metadata": {},
   "outputs": [
    {
     "data": {
      "text/html": [
       "<div>\n",
       "<style scoped>\n",
       "    .dataframe tbody tr th:only-of-type {\n",
       "        vertical-align: middle;\n",
       "    }\n",
       "\n",
       "    .dataframe tbody tr th {\n",
       "        vertical-align: top;\n",
       "    }\n",
       "\n",
       "    .dataframe thead th {\n",
       "        text-align: right;\n",
       "    }\n",
       "</style>\n",
       "<table border=\"1\" class=\"dataframe\">\n",
       "  <thead>\n",
       "    <tr style=\"text-align: right;\">\n",
       "      <th></th>\n",
       "      <th>SepalLength</th>\n",
       "      <th>SepalWidth</th>\n",
       "      <th>PetalLength</th>\n",
       "      <th>PetalWidth</th>\n",
       "      <th>Name</th>\n",
       "    </tr>\n",
       "  </thead>\n",
       "  <tbody>\n",
       "    <tr>\n",
       "      <th>0</th>\n",
       "      <td>-1.084061</td>\n",
       "      <td>2.372290</td>\n",
       "      <td>-0.757639</td>\n",
       "      <td>-1.714701</td>\n",
       "      <td>Iris-setosa</td>\n",
       "    </tr>\n",
       "    <tr>\n",
       "      <th>1</th>\n",
       "      <td>-1.375736</td>\n",
       "      <td>-0.287228</td>\n",
       "      <td>-0.757639</td>\n",
       "      <td>-1.714701</td>\n",
       "      <td>Iris-setosa</td>\n",
       "    </tr>\n",
       "    <tr>\n",
       "      <th>2</th>\n",
       "      <td>-1.667412</td>\n",
       "      <td>0.776579</td>\n",
       "      <td>-0.789761</td>\n",
       "      <td>-1.714701</td>\n",
       "      <td>Iris-setosa</td>\n",
       "    </tr>\n",
       "    <tr>\n",
       "      <th>3</th>\n",
       "      <td>-1.813249</td>\n",
       "      <td>0.244676</td>\n",
       "      <td>-0.725518</td>\n",
       "      <td>-1.714701</td>\n",
       "      <td>Iris-setosa</td>\n",
       "    </tr>\n",
       "    <tr>\n",
       "      <th>4</th>\n",
       "      <td>-1.229898</td>\n",
       "      <td>2.904193</td>\n",
       "      <td>-0.757639</td>\n",
       "      <td>-1.714701</td>\n",
       "      <td>Iris-setosa</td>\n",
       "    </tr>\n",
       "    <tr>\n",
       "      <th>...</th>\n",
       "      <td>...</td>\n",
       "      <td>...</td>\n",
       "      <td>...</td>\n",
       "      <td>...</td>\n",
       "      <td>...</td>\n",
       "    </tr>\n",
       "    <tr>\n",
       "      <th>145</th>\n",
       "      <td>1.249343</td>\n",
       "      <td>-0.287228</td>\n",
       "      <td>0.462978</td>\n",
       "      <td>1.890979</td>\n",
       "      <td>Iris-virginica</td>\n",
       "    </tr>\n",
       "    <tr>\n",
       "      <th>146</th>\n",
       "      <td>0.665992</td>\n",
       "      <td>-2.946745</td>\n",
       "      <td>0.398735</td>\n",
       "      <td>1.204183</td>\n",
       "      <td>Iris-virginica</td>\n",
       "    </tr>\n",
       "    <tr>\n",
       "      <th>147</th>\n",
       "      <td>0.957668</td>\n",
       "      <td>-0.287228</td>\n",
       "      <td>0.462978</td>\n",
       "      <td>1.375882</td>\n",
       "      <td>Iris-virginica</td>\n",
       "    </tr>\n",
       "    <tr>\n",
       "      <th>148</th>\n",
       "      <td>0.520155</td>\n",
       "      <td>1.840386</td>\n",
       "      <td>0.527221</td>\n",
       "      <td>1.890979</td>\n",
       "      <td>Iris-virginica</td>\n",
       "    </tr>\n",
       "    <tr>\n",
       "      <th>149</th>\n",
       "      <td>0.082641</td>\n",
       "      <td>-0.287228</td>\n",
       "      <td>0.430856</td>\n",
       "      <td>1.032484</td>\n",
       "      <td>Iris-virginica</td>\n",
       "    </tr>\n",
       "  </tbody>\n",
       "</table>\n",
       "<p>150 rows × 5 columns</p>\n",
       "</div>"
      ],
      "text/plain": [
       "     SepalLength  SepalWidth  PetalLength  PetalWidth            Name\n",
       "0      -1.084061    2.372290    -0.757639   -1.714701     Iris-setosa\n",
       "1      -1.375736   -0.287228    -0.757639   -1.714701     Iris-setosa\n",
       "2      -1.667412    0.776579    -0.789761   -1.714701     Iris-setosa\n",
       "3      -1.813249    0.244676    -0.725518   -1.714701     Iris-setosa\n",
       "4      -1.229898    2.904193    -0.757639   -1.714701     Iris-setosa\n",
       "..           ...         ...          ...         ...             ...\n",
       "145     1.249343   -0.287228     0.462978    1.890979  Iris-virginica\n",
       "146     0.665992   -2.946745     0.398735    1.204183  Iris-virginica\n",
       "147     0.957668   -0.287228     0.462978    1.375882  Iris-virginica\n",
       "148     0.520155    1.840386     0.527221    1.890979  Iris-virginica\n",
       "149     0.082641   -0.287228     0.430856    1.032484  Iris-virginica\n",
       "\n",
       "[150 rows x 5 columns]"
      ]
     },
     "execution_count": 15,
     "metadata": {},
     "output_type": "execute_result"
    }
   ],
   "source": [
    "iris"
   ]
  },
  {
   "cell_type": "code",
   "execution_count": 16,
   "metadata": {},
   "outputs": [],
   "source": [
    "def my_hot_encoding(dataframe, feature_list_to_encode):\n",
    "    encoding_dict = {}\n",
    "    for each_feature in feature_list_to_encode:\n",
    "        feature_dict = {}\n",
    "        for index_type, each_type in enumerate(dataframe[each_feature].unique()):\n",
    "            feature_dict[each_type] = index_type\n",
    "        encoding_dict[each_feature] = feature_dict\n",
    "    for each_feature in feature_list_to_encode:\n",
    "        dataframe[each_feature] = dataframe[each_feature].map(lambda x: encoding_dict[each_feature][x])\n",
    "    else:\n",
    "        dataframe[each_feature] = dataframe[each_feature].astype(int)\n",
    "    return encoding_dict\n",
    "        \n",
    "            "
   ]
  },
  {
   "cell_type": "code",
   "execution_count": 17,
   "metadata": {},
   "outputs": [
    {
     "data": {
      "text/plain": [
       "{'Name': {'Iris-setosa': 0, 'Iris-versicolor': 1, 'Iris-virginica': 2}}"
      ]
     },
     "execution_count": 17,
     "metadata": {},
     "output_type": "execute_result"
    }
   ],
   "source": [
    "my_discrete_dict = my_hot_encoding(iris, ['Name'])\n",
    "my_discrete_dict"
   ]
  },
  {
   "cell_type": "code",
   "execution_count": 18,
   "metadata": {},
   "outputs": [
    {
     "data": {
      "text/plain": [
       "SepalLength    float64\n",
       "SepalWidth     float64\n",
       "PetalLength    float64\n",
       "PetalWidth     float64\n",
       "Name             int64\n",
       "dtype: object"
      ]
     },
     "execution_count": 18,
     "metadata": {},
     "output_type": "execute_result"
    }
   ],
   "source": [
    "iris.dtypes"
   ]
  },
  {
   "cell_type": "code",
   "execution_count": 19,
   "metadata": {},
   "outputs": [
    {
     "data": {
      "text/html": [
       "<div>\n",
       "<style scoped>\n",
       "    .dataframe tbody tr th:only-of-type {\n",
       "        vertical-align: middle;\n",
       "    }\n",
       "\n",
       "    .dataframe tbody tr th {\n",
       "        vertical-align: top;\n",
       "    }\n",
       "\n",
       "    .dataframe thead th {\n",
       "        text-align: right;\n",
       "    }\n",
       "</style>\n",
       "<table border=\"1\" class=\"dataframe\">\n",
       "  <thead>\n",
       "    <tr style=\"text-align: right;\">\n",
       "      <th></th>\n",
       "      <th>SepalLength</th>\n",
       "      <th>SepalWidth</th>\n",
       "      <th>PetalLength</th>\n",
       "      <th>PetalWidth</th>\n",
       "      <th>Name</th>\n",
       "    </tr>\n",
       "  </thead>\n",
       "  <tbody>\n",
       "    <tr>\n",
       "      <th>97</th>\n",
       "      <td>0.520155</td>\n",
       "      <td>-0.819131</td>\n",
       "      <td>0.173884</td>\n",
       "      <td>0.173988</td>\n",
       "      <td>1</td>\n",
       "    </tr>\n",
       "    <tr>\n",
       "      <th>26</th>\n",
       "      <td>-1.229898</td>\n",
       "      <td>1.840386</td>\n",
       "      <td>-0.693396</td>\n",
       "      <td>-1.371303</td>\n",
       "      <td>0</td>\n",
       "    </tr>\n",
       "    <tr>\n",
       "      <th>4</th>\n",
       "      <td>-1.229898</td>\n",
       "      <td>2.904193</td>\n",
       "      <td>-0.757639</td>\n",
       "      <td>-1.714701</td>\n",
       "      <td>0</td>\n",
       "    </tr>\n",
       "    <tr>\n",
       "      <th>116</th>\n",
       "      <td>0.957668</td>\n",
       "      <td>-0.287228</td>\n",
       "      <td>0.559342</td>\n",
       "      <td>1.032484</td>\n",
       "      <td>2</td>\n",
       "    </tr>\n",
       "    <tr>\n",
       "      <th>100</th>\n",
       "      <td>0.665992</td>\n",
       "      <td>1.308483</td>\n",
       "      <td>0.719950</td>\n",
       "      <td>2.234377</td>\n",
       "      <td>2</td>\n",
       "    </tr>\n",
       "    <tr>\n",
       "      <th>60</th>\n",
       "      <td>-1.229898</td>\n",
       "      <td>-5.606263</td>\n",
       "      <td>-0.083088</td>\n",
       "      <td>-0.341109</td>\n",
       "      <td>1</td>\n",
       "    </tr>\n",
       "    <tr>\n",
       "      <th>54</th>\n",
       "      <td>0.957668</td>\n",
       "      <td>-1.351035</td>\n",
       "      <td>0.270249</td>\n",
       "      <td>0.517387</td>\n",
       "      <td>1</td>\n",
       "    </tr>\n",
       "    <tr>\n",
       "      <th>74</th>\n",
       "      <td>0.811830</td>\n",
       "      <td>-0.819131</td>\n",
       "      <td>0.173884</td>\n",
       "      <td>0.173988</td>\n",
       "      <td>1</td>\n",
       "    </tr>\n",
       "    <tr>\n",
       "      <th>68</th>\n",
       "      <td>0.520155</td>\n",
       "      <td>-4.542456</td>\n",
       "      <td>0.238127</td>\n",
       "      <td>0.517387</td>\n",
       "      <td>1</td>\n",
       "    </tr>\n",
       "    <tr>\n",
       "      <th>145</th>\n",
       "      <td>1.249343</td>\n",
       "      <td>-0.287228</td>\n",
       "      <td>0.462978</td>\n",
       "      <td>1.890979</td>\n",
       "      <td>2</td>\n",
       "    </tr>\n",
       "  </tbody>\n",
       "</table>\n",
       "</div>"
      ],
      "text/plain": [
       "     SepalLength  SepalWidth  PetalLength  PetalWidth  Name\n",
       "97      0.520155   -0.819131     0.173884    0.173988     1\n",
       "26     -1.229898    1.840386    -0.693396   -1.371303     0\n",
       "4      -1.229898    2.904193    -0.757639   -1.714701     0\n",
       "116     0.957668   -0.287228     0.559342    1.032484     2\n",
       "100     0.665992    1.308483     0.719950    2.234377     2\n",
       "60     -1.229898   -5.606263    -0.083088   -0.341109     1\n",
       "54      0.957668   -1.351035     0.270249    0.517387     1\n",
       "74      0.811830   -0.819131     0.173884    0.173988     1\n",
       "68      0.520155   -4.542456     0.238127    0.517387     1\n",
       "145     1.249343   -0.287228     0.462978    1.890979     2"
      ]
     },
     "execution_count": 19,
     "metadata": {},
     "output_type": "execute_result"
    }
   ],
   "source": [
    "iris.sample(10)"
   ]
  },
  {
   "cell_type": "code",
   "execution_count": 20,
   "metadata": {},
   "outputs": [],
   "source": [
    "iris_train_df = iris.sample(frac=1)"
   ]
  },
  {
   "cell_type": "code",
   "execution_count": 21,
   "metadata": {},
   "outputs": [
    {
     "data": {
      "text/plain": [
       "(SepalLength    float64\n",
       " SepalWidth     float64\n",
       " PetalLength    float64\n",
       " PetalWidth     float64\n",
       " Name             int64\n",
       " dtype: object,\n",
       " SepalLength    float64\n",
       " SepalWidth     float64\n",
       " PetalLength    float64\n",
       " PetalWidth     float64\n",
       " Name             int64\n",
       " dtype: object)"
      ]
     },
     "execution_count": 21,
     "metadata": {},
     "output_type": "execute_result"
    }
   ],
   "source": [
    "iris_train_df.dtypes, iris.dtypes"
   ]
  },
  {
   "cell_type": "code",
   "execution_count": 22,
   "metadata": {},
   "outputs": [
    {
     "data": {
      "text/plain": [
       "Index(['SepalLength', 'SepalWidth', 'PetalLength', 'PetalWidth', 'Name'], dtype='object')"
      ]
     },
     "execution_count": 22,
     "metadata": {},
     "output_type": "execute_result"
    }
   ],
   "source": [
    "iris_train_df.columns"
   ]
  },
  {
   "cell_type": "code",
   "execution_count": 23,
   "metadata": {},
   "outputs": [],
   "source": [
    "features = ['SepalLength', 'SepalWidth', 'PetalLength', 'PetalWidth']\n",
    "labels = ['Name']"
   ]
  },
  {
   "cell_type": "code",
   "execution_count": 24,
   "metadata": {},
   "outputs": [],
   "source": [
    "iris_tr = torch.tensor(iris.to_numpy())"
   ]
  },
  {
   "cell_type": "code",
   "execution_count": 81,
   "metadata": {},
   "outputs": [],
   "source": [
    "from torch.utils import data\n",
    "\n",
    "# Parameters\n",
    "params = {'batch_size': 7,\n",
    "          'shuffle': True,\n",
    "          'num_workers': 2}\n",
    "training_generator = data.DataLoader(iris_tr, **params)"
   ]
  },
  {
   "cell_type": "code",
   "execution_count": 82,
   "metadata": {},
   "outputs": [
    {
     "data": {
      "text/plain": [
       "tensor([[-1.9591, -4.0106, -0.7898, -1.5430,  0.0000],\n",
       "        [ 0.3743, -2.4148,  0.5915,  0.3457,  2.0000],\n",
       "        [-0.2090, -2.4148, -0.0831, -0.3411,  1.0000],\n",
       "        [-2.2508, -0.2872, -0.8540, -1.8864,  0.0000],\n",
       "        [-1.3757,  0.2447, -0.7255, -1.8864,  0.0000],\n",
       "        [ 2.5619, -0.2872,  0.9127,  1.5476,  2.0000],\n",
       "        [-1.0841,  1.8404, -0.7255, -1.7147,  0.0000]], dtype=torch.float64)"
      ]
     },
     "execution_count": 82,
     "metadata": {},
     "output_type": "execute_result"
    }
   ],
   "source": [
    "dummy = training_generator.__iter__().next()\n",
    "dummy"
   ]
  },
  {
   "cell_type": "code",
   "execution_count": 299,
   "metadata": {},
   "outputs": [
    {
     "data": {
      "text/plain": [
       "tensor([0, 2, 1, 0, 0, 2, 0], dtype=torch.int32)"
      ]
     },
     "execution_count": 299,
     "metadata": {},
     "output_type": "execute_result"
    }
   ],
   "source": [
    "dummy[:,-1].type(torch.IntTensor)"
   ]
  },
  {
   "cell_type": "code",
   "execution_count": 276,
   "metadata": {},
   "outputs": [
    {
     "data": {
      "text/plain": [
       "(tensor([[0.3894, 0.1339, 0.0220],\n",
       "         [0.9231, 0.3532, 0.4501],\n",
       "         [0.5169, 0.4078, 0.2602],\n",
       "         [0.6727, 0.2713, 0.5925]], requires_grad=True),\n",
       " tensor([0.0497], requires_grad=True))"
      ]
     },
     "execution_count": 276,
     "metadata": {},
     "output_type": "execute_result"
    }
   ],
   "source": [
    "# w = torch.rand(dim, requires_grad=True)\n",
    "w = torch.rand(4,3, requires_grad=True)\n",
    "b = torch.rand(1, requires_grad=True)\n",
    "w, b"
   ]
  },
  {
   "cell_type": "code",
   "execution_count": 277,
   "metadata": {},
   "outputs": [
    {
     "data": {
      "text/plain": [
       "(tensor([[-1.9591, -4.0106, -0.7898, -1.5430],\n",
       "         [ 0.3743, -2.4148,  0.5915,  0.3457],\n",
       "         [-0.2090, -2.4148, -0.0831, -0.3411],\n",
       "         [-2.2508, -0.2872, -0.8540, -1.8864],\n",
       "         [-1.3757,  0.2447, -0.7255, -1.8864],\n",
       "         [ 2.5619, -0.2872,  0.9127,  1.5476],\n",
       "         [-1.0841,  1.8404, -0.7255, -1.7147]], dtype=torch.float64),\n",
       " tensor([[0.3894, 0.1339, 0.0220],\n",
       "         [0.9231, 0.3532, 0.4501],\n",
       "         [0.5169, 0.4078, 0.2602],\n",
       "         [0.6727, 0.2713, 0.5925]], requires_grad=True))"
      ]
     },
     "execution_count": 277,
     "metadata": {},
     "output_type": "execute_result"
    }
   ],
   "source": [
    "sample_batch = dummy[:,0:-1]\n",
    "sample_batch, w"
   ]
  },
  {
   "cell_type": "code",
   "execution_count": 279,
   "metadata": {},
   "outputs": [
    {
     "data": {
      "text/plain": [
       "(tensor([[-5.9113, -2.4194, -2.9679],\n",
       "         [-1.5452, -0.4678, -0.7200],\n",
       "         [-2.5830, -1.0073, -1.3153],\n",
       "         [-2.8519, -1.2628, -1.5186],\n",
       "         [-1.9537, -0.9054, -1.2265],\n",
       "         [ 2.2451,  1.0336,  1.0814],\n",
       "         [-0.2516, -0.2562, -0.4002]], dtype=torch.float64,\n",
       "        grad_fn=<MmBackward>),\n",
       " torch.Size([7, 3]))"
      ]
     },
     "execution_count": 279,
     "metadata": {},
     "output_type": "execute_result"
    }
   ],
   "source": [
    "y_hat = torch.matmul(sample_batch, w.type(torch.float64))\n",
    "y_hat, y_hat.shape"
   ]
  },
  {
   "cell_type": "code",
   "execution_count": 280,
   "metadata": {},
   "outputs": [],
   "source": [
    "import torch.nn as nn\n",
    "criterion = nn.CrossEntropyLoss()"
   ]
  },
  {
   "cell_type": "code",
   "execution_count": 281,
   "metadata": {},
   "outputs": [
    {
     "data": {
      "text/plain": [
       "tensor(1.7676, dtype=torch.float64, grad_fn=<NllLossBackward>)"
      ]
     },
     "execution_count": 281,
     "metadata": {},
     "output_type": "execute_result"
    }
   ],
   "source": [
    "# https://stackoverflow.com/questions/49390842/cross-entropy-in-pytorch\n",
    "loss = criterion(y_hat, y_actual.type(torch.LongTensor))\n",
    "loss"
   ]
  },
  {
   "cell_type": "code",
   "execution_count": 282,
   "metadata": {},
   "outputs": [
    {
     "data": {
      "text/plain": [
       "tensor([0, 2, 1, 0, 0, 2, 0])"
      ]
     },
     "execution_count": 282,
     "metadata": {},
     "output_type": "execute_result"
    }
   ],
   "source": [
    "y_actual"
   ]
  },
  {
   "cell_type": "code",
   "execution_count": 290,
   "metadata": {},
   "outputs": [
    {
     "name": "stdout",
     "output_type": "stream",
     "text": [
      "tensor(1.7676, dtype=torch.float64, grad_fn=<DivBackward0>)\n"
     ]
    }
   ],
   "source": [
    "https://pytorch.org/docs/stable/nn.html?highlight=crossentropyloss#torch.nn.CrossEntropyLoss\n",
    "my_sum = 0\n",
    "for index, value in enumerate(y_actual.type(torch.IntTensor)):\n",
    "    my_sum += y_hat[index, value]*-1 + torch.log(torch.exp(y_hat[index]).sum())\n",
    "print(my_sum/7)"
   ]
  },
  {
   "cell_type": "code",
   "execution_count": 376,
   "metadata": {},
   "outputs": [],
   "source": [
    "def my_loss(y_hat, y_actual):\n",
    "    my_sum = 0\n",
    "    for index, value in enumerate(y_actual.type(torch.IntTensor)):\n",
    "        my_sum += y_hat[index, value]*-1 + torch.log(torch.exp(y_hat[index]).sum())\n",
    "    return my_sum/y_hat.shape[0]"
   ]
  },
  {
   "cell_type": "code",
   "execution_count": 379,
   "metadata": {},
   "outputs": [
    {
     "data": {
      "text/plain": [
       "(tensor([[0.6673, 0.3759, 0.0758],\n",
       "         [0.5282, 0.0964, 0.6912],\n",
       "         [0.2048, 0.8031, 0.7101],\n",
       "         [0.7284, 0.2818, 0.9685]], dtype=torch.float64, requires_grad=True),\n",
       " tensor([0.3194], dtype=torch.float64, requires_grad=True))"
      ]
     },
     "execution_count": 379,
     "metadata": {},
     "output_type": "execute_result"
    }
   ],
   "source": [
    "step_size = torch.tensor(.0001)\n",
    "num_epochs = 5000\n",
    "minibatch_size = 20\n",
    "w = torch.rand(4,3, requires_grad=True, dtype=torch.float64)\n",
    "b = torch.rand(1, requires_grad=True, dtype=torch.float64)\n",
    "w, b\n",
    "# optimizer = torch.optim.Adam(model.parameters(), lr=0.01)"
   ]
  },
  {
   "cell_type": "code",
   "execution_count": 380,
   "metadata": {},
   "outputs": [
    {
     "name": "stdout",
     "output_type": "stream",
     "text": [
      "tensor(0.8294, dtype=torch.float64, grad_fn=<DivBackward0>)\n",
      "tensor(0.9489, dtype=torch.float64, grad_fn=<DivBackward0>)\n",
      "tensor(1.0555, dtype=torch.float64, grad_fn=<DivBackward0>)\n",
      "tensor(1.1955, dtype=torch.float64, grad_fn=<DivBackward0>)\n",
      "tensor(0.7960, dtype=torch.float64, grad_fn=<DivBackward0>)\n",
      "tensor(0.5790, dtype=torch.float64, grad_fn=<DivBackward0>)\n",
      "tensor(0.9364, dtype=torch.float64, grad_fn=<DivBackward0>)\n",
      "tensor(0.6926, dtype=torch.float64, grad_fn=<DivBackward0>)\n",
      "tensor(0.3345, dtype=torch.float64, grad_fn=<DivBackward0>)\n",
      "tensor(0.5476, dtype=torch.float64, grad_fn=<DivBackward0>)\n",
      "tensor(0.5908, dtype=torch.float64, grad_fn=<DivBackward0>)\n",
      "tensor(0.3524, dtype=torch.float64, grad_fn=<DivBackward0>)\n",
      "tensor(0.7636, dtype=torch.float64, grad_fn=<DivBackward0>)\n",
      "tensor(0.7115, dtype=torch.float64, grad_fn=<DivBackward0>)\n",
      "tensor(0.2724, dtype=torch.float64, grad_fn=<DivBackward0>)\n",
      "tensor(0.7149, dtype=torch.float64, grad_fn=<DivBackward0>)\n",
      "tensor(0.3455, dtype=torch.float64, grad_fn=<DivBackward0>)\n",
      "tensor(0.5328, dtype=torch.float64, grad_fn=<DivBackward0>)\n",
      "tensor(0.2249, dtype=torch.float64, grad_fn=<DivBackward0>)\n",
      "tensor(0.2833, dtype=torch.float64, grad_fn=<DivBackward0>)\n",
      "tensor(0.7679, dtype=torch.float64, grad_fn=<DivBackward0>)\n",
      "tensor(0.4320, dtype=torch.float64, grad_fn=<DivBackward0>)\n",
      "tensor(0.3490, dtype=torch.float64, grad_fn=<DivBackward0>)\n",
      "tensor(0.1809, dtype=torch.float64, grad_fn=<DivBackward0>)\n",
      "tensor(0.4652, dtype=torch.float64, grad_fn=<DivBackward0>)\n",
      "tensor(1.1032, dtype=torch.float64, grad_fn=<DivBackward0>)\n",
      "tensor(0.9007, dtype=torch.float64, grad_fn=<DivBackward0>)\n",
      "tensor(0.4512, dtype=torch.float64, grad_fn=<DivBackward0>)\n",
      "tensor(0.5186, dtype=torch.float64, grad_fn=<DivBackward0>)\n",
      "tensor(0.2587, dtype=torch.float64, grad_fn=<DivBackward0>)\n",
      "tensor(0.5550, dtype=torch.float64, grad_fn=<DivBackward0>)\n",
      "tensor(0.6035, dtype=torch.float64, grad_fn=<DivBackward0>)\n",
      "tensor(0.5439, dtype=torch.float64, grad_fn=<DivBackward0>)\n",
      "tensor(0.5994, dtype=torch.float64, grad_fn=<DivBackward0>)\n",
      "tensor(0.5093, dtype=torch.float64, grad_fn=<DivBackward0>)\n",
      "tensor(0.7032, dtype=torch.float64, grad_fn=<DivBackward0>)\n",
      "tensor(0.2447, dtype=torch.float64, grad_fn=<DivBackward0>)\n",
      "tensor(0.2811, dtype=torch.float64, grad_fn=<DivBackward0>)\n",
      "tensor(1.1096, dtype=torch.float64, grad_fn=<DivBackward0>)\n",
      "tensor(0.6363, dtype=torch.float64, grad_fn=<DivBackward0>)\n",
      "tensor(0.3681, dtype=torch.float64, grad_fn=<DivBackward0>)\n",
      "tensor(0.1797, dtype=torch.float64, grad_fn=<DivBackward0>)\n",
      "tensor(0.3205, dtype=torch.float64, grad_fn=<DivBackward0>)\n",
      "tensor(0.2865, dtype=torch.float64, grad_fn=<DivBackward0>)\n",
      "tensor(0.3283, dtype=torch.float64, grad_fn=<DivBackward0>)\n",
      "tensor(0.2488, dtype=torch.float64, grad_fn=<DivBackward0>)\n",
      "tensor(0.2592, dtype=torch.float64, grad_fn=<DivBackward0>)\n",
      "tensor(0.4050, dtype=torch.float64, grad_fn=<DivBackward0>)\n",
      "tensor(0.2371, dtype=torch.float64, grad_fn=<DivBackward0>)\n",
      "tensor(0.2134, dtype=torch.float64, grad_fn=<DivBackward0>)\n",
      "tensor(0.3060, dtype=torch.float64, grad_fn=<DivBackward0>)\n",
      "tensor(0.3339, dtype=torch.float64, grad_fn=<DivBackward0>)\n",
      "tensor(0.6859, dtype=torch.float64, grad_fn=<DivBackward0>)\n",
      "tensor(0.6811, dtype=torch.float64, grad_fn=<DivBackward0>)\n",
      "tensor(0.2924, dtype=torch.float64, grad_fn=<DivBackward0>)\n",
      "tensor(0.2623, dtype=torch.float64, grad_fn=<DivBackward0>)\n",
      "tensor(0.1896, dtype=torch.float64, grad_fn=<DivBackward0>)\n",
      "tensor(0.2887, dtype=torch.float64, grad_fn=<DivBackward0>)\n",
      "tensor(0.2702, dtype=torch.float64, grad_fn=<DivBackward0>)\n",
      "tensor(0.3189, dtype=torch.float64, grad_fn=<DivBackward0>)\n",
      "tensor(0.2618, dtype=torch.float64, grad_fn=<DivBackward0>)\n",
      "tensor(0.1842, dtype=torch.float64, grad_fn=<DivBackward0>)\n",
      "tensor(0.5264, dtype=torch.float64, grad_fn=<DivBackward0>)\n",
      "tensor(0.0850, dtype=torch.float64, grad_fn=<DivBackward0>)\n",
      "tensor(0.4215, dtype=torch.float64, grad_fn=<DivBackward0>)\n",
      "tensor(0.3364, dtype=torch.float64, grad_fn=<DivBackward0>)\n",
      "tensor(0.9215, dtype=torch.float64, grad_fn=<DivBackward0>)\n",
      "tensor(0.2714, dtype=torch.float64, grad_fn=<DivBackward0>)\n",
      "tensor(0.8399, dtype=torch.float64, grad_fn=<DivBackward0>)\n",
      "tensor(0.0334, dtype=torch.float64, grad_fn=<DivBackward0>)\n",
      "tensor(0.6861, dtype=torch.float64, grad_fn=<DivBackward0>)\n",
      "tensor(0.1512, dtype=torch.float64, grad_fn=<DivBackward0>)\n",
      "tensor(0.1372, dtype=torch.float64, grad_fn=<DivBackward0>)\n",
      "tensor(0.3036, dtype=torch.float64, grad_fn=<DivBackward0>)\n",
      "tensor(1.2651, dtype=torch.float64, grad_fn=<DivBackward0>)\n",
      "tensor(0.1303, dtype=torch.float64, grad_fn=<DivBackward0>)\n",
      "tensor(0.0440, dtype=torch.float64, grad_fn=<DivBackward0>)\n",
      "tensor(0.0286, dtype=torch.float64, grad_fn=<DivBackward0>)\n",
      "tensor(0.0330, dtype=torch.float64, grad_fn=<DivBackward0>)\n",
      "tensor(0.4390, dtype=torch.float64, grad_fn=<DivBackward0>)\n"
     ]
    },
    {
     "ename": "KeyboardInterrupt",
     "evalue": "",
     "output_type": "error",
     "traceback": [
      "\u001b[0;31m---------------------------------------------------------------------------\u001b[0m",
      "\u001b[0;31mKeyboardInterrupt\u001b[0m                         Traceback (most recent call last)",
      "\u001b[0;32m<ipython-input-380-955754d99fc2>\u001b[0m in \u001b[0;36m<module>\u001b[0;34m\u001b[0m\n\u001b[1;32m      2\u001b[0m \u001b[0mloss_arr\u001b[0m \u001b[0;34m=\u001b[0m \u001b[0;34m[\u001b[0m\u001b[0;34m]\u001b[0m\u001b[0;34m\u001b[0m\u001b[0;34m\u001b[0m\u001b[0m\n\u001b[1;32m      3\u001b[0m \u001b[0;32mfor\u001b[0m \u001b[0mi\u001b[0m \u001b[0;32min\u001b[0m \u001b[0mrange\u001b[0m\u001b[0;34m(\u001b[0m\u001b[0mepochs\u001b[0m\u001b[0;34m)\u001b[0m\u001b[0;34m:\u001b[0m\u001b[0;34m\u001b[0m\u001b[0;34m\u001b[0m\u001b[0m\n\u001b[0;32m----> 4\u001b[0;31m     \u001b[0;32mfor\u001b[0m \u001b[0mbatch\u001b[0m \u001b[0;32min\u001b[0m \u001b[0mtraining_generator\u001b[0m\u001b[0;34m:\u001b[0m\u001b[0;34m\u001b[0m\u001b[0;34m\u001b[0m\u001b[0m\n\u001b[0m\u001b[1;32m      5\u001b[0m         \u001b[0my_hat\u001b[0m \u001b[0;34m=\u001b[0m \u001b[0mtorch\u001b[0m\u001b[0;34m.\u001b[0m\u001b[0mmatmul\u001b[0m\u001b[0;34m(\u001b[0m\u001b[0mbatch\u001b[0m\u001b[0;34m[\u001b[0m\u001b[0;34m:\u001b[0m\u001b[0;34m,\u001b[0m\u001b[0;34m:\u001b[0m\u001b[0;34m-\u001b[0m\u001b[0;36m1\u001b[0m\u001b[0;34m]\u001b[0m\u001b[0;34m,\u001b[0m \u001b[0mw\u001b[0m\u001b[0;34m)\u001b[0m \u001b[0;34m+\u001b[0m \u001b[0mb\u001b[0m\u001b[0;34m\u001b[0m\u001b[0;34m\u001b[0m\u001b[0m\n\u001b[1;32m      6\u001b[0m \u001b[0;31m#         loss = criterion(y_hat, batch[:,-1].type(torch.LongTensor)) #average loss per batch\u001b[0m\u001b[0;34m\u001b[0m\u001b[0;34m\u001b[0m\u001b[0;34m\u001b[0m\u001b[0m\n",
      "\u001b[0;32m~/anaconda3/lib/python3.6/site-packages/torch/utils/data/dataloader.py\u001b[0m in \u001b[0;36m__next__\u001b[0;34m(self)\u001b[0m\n\u001b[1;32m    343\u001b[0m \u001b[0;34m\u001b[0m\u001b[0m\n\u001b[1;32m    344\u001b[0m     \u001b[0;32mdef\u001b[0m \u001b[0m__next__\u001b[0m\u001b[0;34m(\u001b[0m\u001b[0mself\u001b[0m\u001b[0;34m)\u001b[0m\u001b[0;34m:\u001b[0m\u001b[0;34m\u001b[0m\u001b[0;34m\u001b[0m\u001b[0m\n\u001b[0;32m--> 345\u001b[0;31m         \u001b[0mdata\u001b[0m \u001b[0;34m=\u001b[0m \u001b[0mself\u001b[0m\u001b[0;34m.\u001b[0m\u001b[0m_next_data\u001b[0m\u001b[0;34m(\u001b[0m\u001b[0;34m)\u001b[0m\u001b[0;34m\u001b[0m\u001b[0;34m\u001b[0m\u001b[0m\n\u001b[0m\u001b[1;32m    346\u001b[0m         \u001b[0mself\u001b[0m\u001b[0;34m.\u001b[0m\u001b[0m_num_yielded\u001b[0m \u001b[0;34m+=\u001b[0m \u001b[0;36m1\u001b[0m\u001b[0;34m\u001b[0m\u001b[0;34m\u001b[0m\u001b[0m\n\u001b[1;32m    347\u001b[0m         \u001b[0;32mif\u001b[0m \u001b[0mself\u001b[0m\u001b[0;34m.\u001b[0m\u001b[0m_dataset_kind\u001b[0m \u001b[0;34m==\u001b[0m \u001b[0m_DatasetKind\u001b[0m\u001b[0;34m.\u001b[0m\u001b[0mIterable\u001b[0m \u001b[0;32mand\u001b[0m\u001b[0;31m \u001b[0m\u001b[0;31m\\\u001b[0m\u001b[0;34m\u001b[0m\u001b[0;34m\u001b[0m\u001b[0m\n",
      "\u001b[0;32m~/anaconda3/lib/python3.6/site-packages/torch/utils/data/dataloader.py\u001b[0m in \u001b[0;36m_next_data\u001b[0;34m(self)\u001b[0m\n\u001b[1;32m    822\u001b[0m                 \u001b[0minfo\u001b[0m \u001b[0;34m=\u001b[0m \u001b[0mself\u001b[0m\u001b[0;34m.\u001b[0m\u001b[0m_task_info\u001b[0m\u001b[0;34m[\u001b[0m\u001b[0mself\u001b[0m\u001b[0;34m.\u001b[0m\u001b[0m_rcvd_idx\u001b[0m\u001b[0;34m]\u001b[0m\u001b[0;34m\u001b[0m\u001b[0;34m\u001b[0m\u001b[0m\n\u001b[1;32m    823\u001b[0m                 \u001b[0mworker_id\u001b[0m \u001b[0;34m=\u001b[0m \u001b[0minfo\u001b[0m\u001b[0;34m[\u001b[0m\u001b[0;36m0\u001b[0m\u001b[0;34m]\u001b[0m\u001b[0;34m\u001b[0m\u001b[0;34m\u001b[0m\u001b[0m\n\u001b[0;32m--> 824\u001b[0;31m                 \u001b[0;32mif\u001b[0m \u001b[0mlen\u001b[0m\u001b[0;34m(\u001b[0m\u001b[0minfo\u001b[0m\u001b[0;34m)\u001b[0m \u001b[0;34m==\u001b[0m \u001b[0;36m2\u001b[0m \u001b[0;32mor\u001b[0m \u001b[0mself\u001b[0m\u001b[0;34m.\u001b[0m\u001b[0m_workers_status\u001b[0m\u001b[0;34m[\u001b[0m\u001b[0mworker_id\u001b[0m\u001b[0;34m]\u001b[0m\u001b[0;34m:\u001b[0m  \u001b[0;31m# has data or is still active\u001b[0m\u001b[0;34m\u001b[0m\u001b[0;34m\u001b[0m\u001b[0m\n\u001b[0m\u001b[1;32m    825\u001b[0m                     \u001b[0;32mbreak\u001b[0m\u001b[0;34m\u001b[0m\u001b[0;34m\u001b[0m\u001b[0m\n\u001b[1;32m    826\u001b[0m                 \u001b[0;32mdel\u001b[0m \u001b[0mself\u001b[0m\u001b[0;34m.\u001b[0m\u001b[0m_task_info\u001b[0m\u001b[0;34m[\u001b[0m\u001b[0mself\u001b[0m\u001b[0;34m.\u001b[0m\u001b[0m_rcvd_idx\u001b[0m\u001b[0;34m]\u001b[0m\u001b[0;34m\u001b[0m\u001b[0;34m\u001b[0m\u001b[0m\n",
      "\u001b[0;31mKeyboardInterrupt\u001b[0m: "
     ]
    }
   ],
   "source": [
    "epochs = 5000\n",
    "loss_arr = []\n",
    "for i in range(epochs):\n",
    "    for batch in training_generator:\n",
    "        y_hat = torch.matmul(batch[:,:-1], w) + b\n",
    "#         loss = criterion(y_hat, batch[:,-1].type(torch.LongTensor)) #average loss per batch\n",
    "        loss = my_loss(y_hat, batch[:,-1].type(torch.LongTensor))\n",
    "        loss_arr.append(loss)\n",
    "        loss.backward()\n",
    "        w.data -= step_size * w.grad.data\n",
    "        b.data -= step_size * b.grad.data\n",
    "        w.grad.data.zero_()\n",
    "        b.grad.data.zero_()\n",
    "    if i % 25 == 0:\n",
    "        print(loss)"
   ]
  },
  {
   "cell_type": "code",
   "execution_count": null,
   "metadata": {},
   "outputs": [],
   "source": []
  }
 ],
 "metadata": {
  "kernelspec": {
   "display_name": "Python 3.6.10 64-bit ('base': conda)",
   "language": "python",
   "name": "python361064bitbaseconda781f63433f6e4e048d2f76097806863c"
  },
  "language_info": {
   "codemirror_mode": {
    "name": "ipython",
    "version": 3
   },
   "file_extension": ".py",
   "mimetype": "text/x-python",
   "name": "python",
   "nbconvert_exporter": "python",
   "pygments_lexer": "ipython3",
   "version": "3.6.10"
  }
 },
 "nbformat": 4,
 "nbformat_minor": 4
}
