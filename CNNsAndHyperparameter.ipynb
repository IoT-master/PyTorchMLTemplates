{
  "nbformat": 4,
  "nbformat_minor": 0,
  "metadata": {
    "colab": {
      "name": "CNNsAndHyperparameter.ipynb",
      "provenance": [],
      "collapsed_sections": []
    },
    "kernelspec": {
      "name": "python3",
      "display_name": "Python 3"
    },
    "accelerator": "GPU"
  },
  "cells": [
    {
      "cell_type": "code",
      "metadata": {
        "id": "NWgPw5dYeSH4",
        "colab_type": "code",
        "colab": {
          "base_uri": "https://localhost:8080/",
          "height": 51
        },
        "outputId": "45a8ccc8-4f8d-498f-9e1a-27cd31842afd"
      },
      "source": [
        "# !pip install modin\n",
        "# !pip install modin[dask]\n",
        "import modin.pandas as pd\n",
        "import numpy as np\n",
        "import matplotlib.pyplot as plt\n",
        "\n",
        "import torch\n",
        "import torchvision"
      ],
      "execution_count": 1,
      "outputs": [
        {
          "output_type": "stream",
          "text": [
            "FutureWarning: pandas.core.index is deprecated and will be removed in a future version.  The public classes are available in the top-level namespace.\n",
            "UserWarning: The Dask Engine for Modin is experimental.\n"
          ],
          "name": "stderr"
        }
      ]
    },
    {
      "cell_type": "code",
      "metadata": {
        "id": "SkrLz4S0hfnT",
        "colab_type": "code",
        "colab": {}
      },
      "source": [
        "!rm *"
      ],
      "execution_count": 0,
      "outputs": []
    },
    {
      "cell_type": "code",
      "metadata": {
        "id": "LXOY4IcEjxWK",
        "colab_type": "code",
        "colab": {}
      },
      "source": [
        "from google.colab import files\n",
        "a = files.upload()"
      ],
      "execution_count": 0,
      "outputs": []
    },
    {
      "cell_type": "code",
      "metadata": {
        "id": "VaJMvsq4j1qi",
        "colab_type": "code",
        "colab": {}
      },
      "source": [
        "b = files.upload()"
      ],
      "execution_count": 0,
      "outputs": []
    },
    {
      "cell_type": "code",
      "metadata": {
        "id": "REoyMFLQj8bU",
        "colab_type": "code",
        "colab": {}
      },
      "source": [
        "import io\n",
        "mnist_train = pd.read_csv(io.BytesIO(a['mnist_train.csv']))\n",
        "mnist_test = pd.read_csv(io.BytesIO(b['mnist_test.csv']))"
      ],
      "execution_count": 0,
      "outputs": []
    },
    {
      "cell_type": "code",
      "metadata": {
        "id": "XOvO7KUxn1UW",
        "colab_type": "code",
        "colab": {}
      },
      "source": [
        "mnist_train.head()"
      ],
      "execution_count": 0,
      "outputs": []
    },
    {
      "cell_type": "code",
      "metadata": {
        "id": "jTBU0p42n5EA",
        "colab_type": "code",
        "colab": {}
      },
      "source": [
        "mnist_train = mnist_train.dropna()\n",
        "mnist_test = mnist_test.dropna()"
      ],
      "execution_count": 0,
      "outputs": []
    },
    {
      "cell_type": "code",
      "metadata": {
        "id": "aGaeUozOoFGf",
        "colab_type": "code",
        "colab": {}
      },
      "source": [
        "random_sel = mnist_train.sample(8)\n",
        "random_sel.shape"
      ],
      "execution_count": 0,
      "outputs": []
    },
    {
      "cell_type": "code",
      "metadata": {
        "id": "VFtFeqINoSj-",
        "colab_type": "code",
        "colab": {}
      },
      "source": [
        "image_feature = random_sel.drop('label', axis=1)\n",
        "image_batch = (torch.Tensor(image_feature.values / 255.)).reshape((-1, 28, 28))\n",
        "image_batch.shape"
      ],
      "execution_count": 0,
      "outputs": []
    },
    {
      "cell_type": "code",
      "metadata": {
        "id": "rJLC_3-IouhB",
        "colab_type": "code",
        "colab": {}
      },
      "source": [
        "grid = torchvision.utils.make_grid(image_batch.unsqueeze(1), nrow=8)\n",
        "grid.shape"
      ],
      "execution_count": 0,
      "outputs": []
    },
    {
      "cell_type": "code",
      "metadata": {
        "id": "j3YN5etXo7pq",
        "colab_type": "code",
        "colab": {}
      },
      "source": [
        "plt.figure(figsize=(12,12))\n",
        "plt.imshow(grid.numpy().transpose((1, 2, 0)))\n",
        "plt.axis('off')"
      ],
      "execution_count": 0,
      "outputs": []
    },
    {
      "cell_type": "code",
      "metadata": {
        "id": "mV0bpoljpTQc",
        "colab_type": "code",
        "colab": {}
      },
      "source": [
        ""
      ],
      "execution_count": 0,
      "outputs": []
    },
    {
      "cell_type": "code",
      "metadata": {
        "id": "__TZfAuupM01",
        "colab_type": "code",
        "colab": {}
      },
      "source": [
        "mnist_train_features = mnist_train.drop('label', axis=1)\n",
        "mnist_train_target = mnist_train['label']\n",
        "\n",
        "mnist_test_features = mnist_test.drop('label', axis=1)\n",
        "mnist_test_target = mnist_test['label']"
      ],
      "execution_count": 0,
      "outputs": []
    },
    {
      "cell_type": "code",
      "metadata": {
        "id": "xzbAmDu0ps-R",
        "colab_type": "code",
        "colab": {}
      },
      "source": [
        "X_train_tensor = torch.tensor(mnist_train_features.values, dtype=torch.float)\n",
        "x_test_tensor = torch.tensor(mnist_test_features.value, dtype=torch.float)\n",
        "\n",
        "Y_train_tensor = torch.tensor(mnist_train_target.values, dtype=torch.long)\n",
        "y_test_tensor = torch.tensor(mnist_test_target.values, dtype=torch.log)"
      ],
      "execution_count": 0,
      "outputs": []
    },
    {
      "cell_type": "code",
      "metadata": {
        "id": "V3P-s6arqfeT",
        "colab_type": "code",
        "colab": {}
      },
      "source": [
        "X_train_tensor.shape, Y_train_tensor.shape, x_test_tensor.shape, y_test_tensor.shape"
      ],
      "execution_count": 0,
      "outputs": []
    },
    {
      "cell_type": "code",
      "metadata": {
        "id": "ZXZGAUJgqp2f",
        "colab_type": "code",
        "colab": {}
      },
      "source": [
        "X_train_tensor = X_train_tensor.reshape(-1, 1, 28, 28)\n",
        "x_test_tensor = X_test_tensor.reshape(-1, 1, 28, 28)"
      ],
      "execution_count": 0,
      "outputs": []
    },
    {
      "cell_type": "code",
      "metadata": {
        "id": "ENxMqYmyrNeG",
        "colab_type": "code",
        "colab": {}
      },
      "source": [
        "X_train_tensor.shape, Y_train_tensor.shape, x_test_tensor.shape, y_test_tensor.shape"
      ],
      "execution_count": 0,
      "outputs": []
    },
    {
      "cell_type": "code",
      "metadata": {
        "id": "fv0LC8o3rSao",
        "colab_type": "code",
        "colab": {}
      },
      "source": [
        "import torch.nn as nn\n",
        "import torch.nn.functional as F"
      ],
      "execution_count": 0,
      "outputs": []
    },
    {
      "cell_type": "code",
      "metadata": {
        "id": "2st2-zcmrXNO",
        "colab_type": "code",
        "colab": {}
      },
      "source": [
        "#number of channels in the input, for grayscale images this will be 1\n",
        "in_size = 1\n",
        "hid1_size = 16\n",
        "hid2_size = 32\n",
        "#We have ten possible digits as our output\n",
        "out_size = 10\n",
        "#5x5 kernel\n",
        "k_conv_size = 5"
      ],
      "execution_count": 0,
      "outputs": []
    },
    {
      "cell_type": "code",
      "metadata": {
        "id": "RW8S23Kur-s6",
        "colab_type": "code",
        "colab": {}
      },
      "source": [
        "class ConvNet(nn.Module):\n",
        "\n",
        "  def __init__(self):\n",
        "    super(ConvNet, self).__init__()\n",
        "\n",
        "    self.layer1 = nn.Sequential(\n",
        "        nn.Conv2d(in_size, hid1_size, k_conv_size),\n",
        "        nn.BatchNorm2d(hid1_size),\n",
        "        nn.ReLU(),\n",
        "        nn.MaxPool2d(kernel_size=2)\n",
        "    )\n",
        "\n",
        "    self.layer2 = nn.Sequential(\n",
        "        nn.Conv2d(hid1_size, hid2_size, k_conv_size),\n",
        "        nn.BatchNorm2d(hid2_size),\n",
        "        nn.ReLU(),\n",
        "        nn.MaxPool2d(kernal_size=2)\n",
        "    )\n",
        "    self.fc = nn.Linear(512, out_size)\n",
        "\n",
        "    def forward(self, x):\n",
        "\n",
        "      out = self.layer1(x)\n",
        "      print(out.shape)\n",
        "\n",
        "      out = self.layer2(out)\n",
        "      print(out.shape)\n",
        "\n",
        "      out = out.reshape(out.size(0), -1)\n",
        "      print(out.shape)\n",
        "\n",
        "      out = self.fc(out)\n",
        "      print(out.shape)\n",
        "\n",
        "      return out"
      ],
      "execution_count": 0,
      "outputs": []
    },
    {
      "cell_type": "code",
      "metadata": {
        "id": "ILYtW28UuQX8",
        "colab_type": "code",
        "colab": {}
      },
      "source": [
        "model = ConvNet()"
      ],
      "execution_count": 0,
      "outputs": []
    },
    {
      "cell_type": "code",
      "metadata": {
        "id": "qqiJGBxruTiE",
        "colab_type": "code",
        "colab": {}
      },
      "source": [
        "device = torch.device(\"cuda:0\" if torch.cuda.is_available() else \"cpu\")\n",
        "print(device)"
      ],
      "execution_count": 0,
      "outputs": []
    },
    {
      "cell_type": "code",
      "metadata": {
        "id": "S0ApT5oBufs0",
        "colab_type": "code",
        "colab": {}
      },
      "source": [
        "model.to(device)"
      ],
      "execution_count": 0,
      "outputs": []
    },
    {
      "cell_type": "code",
      "metadata": {
        "id": "bitYQewuupwS",
        "colab_type": "code",
        "colab": {}
      },
      "source": [
        "X_train_tensor = X_train_tensor.to(device)\n",
        "x_test_tensor = x_test_tensor.to(device)\n",
        "\n",
        "Y_train_tensor = Y_train_tensor.to(device)\n",
        "y_test_tensor = y_test_tensor.to(device)"
      ],
      "execution_count": 0,
      "outputs": []
    },
    {
      "cell_type": "code",
      "metadata": {
        "id": "wMh2-BWjutgI",
        "colab_type": "code",
        "colab": {}
      },
      "source": [
        "learning_rate = 0.001\n",
        "criterion = nn.CrossEntropyLoss()\n",
        "optimizer = torch.optim.Adam(model.parameters(), lr=learning_rate)"
      ],
      "execution_count": 0,
      "outputs": []
    },
    {
      "cell_type": "code",
      "metadata": {
        "id": "58u6plNyvCux",
        "colab_type": "code",
        "colab": {}
      },
      "source": [
        "num_epochs = 10\n",
        "loss_values = list()"
      ],
      "execution_count": 0,
      "outputs": []
    },
    {
      "cell_type": "code",
      "metadata": {
        "id": "8XIxvXHqvSg9",
        "colab_type": "code",
        "colab": {}
      },
      "source": [
        "for epoch in range(1, num_epochs):\n",
        "\n",
        "  outputs = model(X_train_tensor)\n",
        "  loss = criterion(outputs, Y_train_tensor)\n",
        "\n",
        "  optimizer.zero_grad()\n",
        "  loss.backward()\n",
        "  optimizer.step()\n",
        "\n",
        "  print('Epoch - %d, loss - %0.5f' %(epoch, loss.item()))\n",
        "  loss_values.append(loss.item())"
      ],
      "execution_count": 0,
      "outputs": []
    },
    {
      "cell_type": "code",
      "metadata": {
        "id": "b3Ho59ttwgjF",
        "colab_type": "code",
        "colab": {}
      },
      "source": [
        "x = (range(0,9))\n",
        "\n",
        "plt.figure(figsize=(8,8))\n",
        "plt.plot(x, loss_values)\n",
        "plt.xlabel('Epoch')\n",
        "plt.ylabel('Loss')"
      ],
      "execution_count": 0,
      "outputs": []
    },
    {
      "cell_type": "code",
      "metadata": {
        "id": "JymmPiqgw4Dm",
        "colab_type": "code",
        "colab": {}
      },
      "source": [
        "model.eval()"
      ],
      "execution_count": 0,
      "outputs": []
    },
    {
      "cell_type": "code",
      "metadata": {
        "id": "ParXJvmOw64p",
        "colab_type": "code",
        "colab": {}
      },
      "source": [
        "from sklearn.metrics import accuracy_score, precision_score, recall_score"
      ],
      "execution_count": 0,
      "outputs": []
    },
    {
      "cell_type": "code",
      "metadata": {
        "id": "Ui-6ZhunxA9Q",
        "colab_type": "code",
        "colab": {}
      },
      "source": [
        "with torch.no_grad():\n",
        "\n",
        "  correct = 0\n",
        "  total = 0\n",
        "\n",
        "  outputs = model(x_test_tensor)\n",
        "  _, predicted = torch.max(outputs.data, 1)\n",
        "\n",
        "  y_test = y_test_tensor.cpu().numpy()\n",
        "  predicted = predicted.cpu()\n",
        "\n",
        "  print(\"Accuracy: \", accuracy_score(predicted, y_test))\n",
        "  print(\"Precision: \", precision_score(predicted, y_test, average='weighted'))\n",
        "  print(\"Recall: \", recall_score(predicted, y_test, average='weighted'))"
      ],
      "execution_count": 0,
      "outputs": []
    },
    {
      "cell_type": "code",
      "metadata": {
        "id": "OaXGbzlmxdoG",
        "colab_type": "code",
        "colab": {}
      },
      "source": [
        "#number of channels in the input, for grayscale images this will be 1\n",
        "in_size = 1\n",
        "hid1_size = 16\n",
        "hid2_size = 32\n",
        "#We have ten possible digits as our output\n",
        "out_size = 10\n",
        "#5x5 kernel\n",
        "k_conv_size = 5\n",
        "learning_rate = 0.01\n",
        "criterion = nn.NLLLoss()\n",
        "\n",
        "#change forward return to F.log_softmax(out, dim=-1)"
      ],
      "execution_count": 0,
      "outputs": []
    }
  ]
}